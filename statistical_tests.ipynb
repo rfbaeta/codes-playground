{
 "cells": [
  {
   "cell_type": "code",
   "execution_count": 4,
   "id": "a7424dd4-9461-4dcb-9f6c-d2e3bb6267e2",
   "metadata": {},
   "outputs": [],
   "source": [
    "# Basics\n",
    "import pandas as pd\n",
    "import numpy as np\n",
    "\n",
    "#  Visualizations\n",
    "import matplotlib.pyplot as plt\n",
    "import seaborn as sns\n",
    "\n",
    "# Modeling\n",
    "import statsmodels.stats.api as sms\n",
    "import statsmodels.formula.api as smf\n",
    "\n",
    "# Tests\n",
    "from statsmodels.stats.diagnostic import lilliefors #Kolmogorov-Smirnov normality test\n",
    "import scipy.stats as scs # QQ plot\n",
    "from statsmodels.compat import lzip # Homocedascity test\n",
    "from statsmodels.tools.sm_exceptions import ValueWarning\n",
    "from statsmodels.stats.stattools import durbin_watson"
   ]
  },
  {
   "cell_type": "code",
   "execution_count": 5,
   "id": "456236fa-ba5b-4b46-a4d8-3441654a4d8e",
   "metadata": {},
   "outputs": [],
   "source": [
    "data_ = sklearn.datasets.load_wine()\n",
    "# Create dataframe\n",
    "df = pd.DataFrame(data_.data, columns=data_.feature_names)\n",
    "df['target'] = data_.target\n",
    "df.rename(columns={'od280/od315_of_diluted_wines': 'test_diluted_wines'}, inplace=True)"
   ]
  },
  {
   "cell_type": "markdown",
   "id": "21414798-5a14-4e78-bb7c-bc8d741b91a7",
   "metadata": {},
   "source": [
    "### Linear Regression\n",
    "The Ordinary Least Squares (OLS) method is the most common for LR and, in short, it tries to draw a line somewhere between the points that will give us the best fit, that will give us the lowest number when we sum the difference between the real values to the regression line.\n",
    "\n",
    "That difference is the error component of the famous equation y = a + bx + e. The OLS method will square those errors and sum the amounts, trying to reach the minimum number as the result, which will result in the coefficients for the equation with the best fit.\n",
    "\n",
    "assumptions where we should test the residuals of a LR:\n",
    "\n",
    "- The residuals must follow a normal distribution.\n",
    "- The residuals are homogeneous, there’s homoscedasticity.\n",
    "- There’s no outliers in the errors.\n",
    "- There’s no autocorrelation in the errors.\n",
    "- There’s no multicolinearity between the independent variables.\n"
   ]
  },
  {
   "cell_type": "markdown",
   "id": "7c5c25de-5ad0-4979-9202-19d6407ee6e1",
   "metadata": {},
   "source": [
    "#### The Errors Must Follow a Normal Distribution\n",
    "When we’re creating a LR model, sometimes we hear that the variables must follow a normal distribution. That is not quite true. What must follow such distribution is the residuals."
   ]
  },
  {
   "cell_type": "code",
   "execution_count": 6,
   "id": "97f1fb25-3d15-4d56-9d54-7e9bf9d5470a",
   "metadata": {},
   "outputs": [
    {
     "name": "stdout",
     "output_type": "stream",
     "text": [
      "0      0.193687\n",
      "1      0.074731\n",
      "2     -0.057310\n",
      "3      0.128511\n",
      "4     -0.572645\n",
      "         ...   \n",
      "173    0.221969\n",
      "174    0.101630\n",
      "175    0.005574\n",
      "176    0.114413\n",
      "177   -0.126262\n",
      "Length: 178, dtype: float64\n"
     ]
    }
   ],
   "source": [
    "# Regression Model\n",
    "model = smf.ols('target ~ alcohol + ash + alcalinity_of_ash + total_phenols + flavanoids + nonflavanoid_phenols + color_intensity + hue + test_diluted_wines + proline', data = df).fit()\n",
    "# Extract the residuals\n",
    "model_resid = model.resid\n",
    "print(model_resid)"
   ]
  },
  {
   "cell_type": "code",
   "execution_count": 7,
   "id": "fa14e257-79af-4b25-81f2-5d8ea20aac8d",
   "metadata": {},
   "outputs": [
    {
     "name": "stdout",
     "output_type": "stream",
     "text": [
      "Normal | p-value: 0.6144137369052278\n",
      "-------------------------------\n",
      "Anderson:\n",
      "Normal | stat: 0.35916418199656164 :: p-value: 0.77\n"
     ]
    }
   ],
   "source": [
    "# Kolmogorov-Smirnov test\n",
    "_, p = lilliefors(model_resid, dist='norm')\n",
    "print('Not normal | p-value:' if p < 0.05 else 'Normal | p-value:', p)\n",
    "print('-------------------------------')\n",
    "# Anderson\n",
    "stat, p3, _ = scs.anderson(model_resid, dist='norm')\n",
    "print('Anderson:')\n",
    "print('Not normal | stat:' if stat > p3[2] else 'Normal | stat:', stat, ':: p-value:', p3[2])\n"
   ]
  },
  {
   "cell_type": "markdown",
   "id": "49d10d25-a3f9-4041-ae26-63d3d8d04cda",
   "metadata": {},
   "source": [
    "I can also plot the QQ plot to see where the data deviates from the normal distribution, when that’s the case."
   ]
  },
  {
   "cell_type": "code",
   "execution_count": 8,
   "id": "f795cc82-b85b-4d58-9fe6-54c745c9e4fe",
   "metadata": {},
   "outputs": [
    {
     "data": {
      "image/png": "[encoded data removed]",
      "text/plain": [
       "<Figure size 432x288 with 1 Axes>"
      ]
     },
     "metadata": {
      "needs_background": "light"
     },
     "output_type": "display_data"
    }
   ],
   "source": [
    "# QQPlot\n",
    "scs.probplot(model_resid, dist='norm', plot=plt)\n",
    "plt.title('QQ Plot')\n",
    "plt.show()"
   ]
  },
  {
   "cell_type": "markdown",
   "id": "6337f8eb-ba0c-4579-a810-8d1ba08bc240",
   "metadata": {},
   "source": [
    "#### Homocedasticity\n",
    "The residuals must be homogeneous. And if we think it logically, that makes a lot of sense. I mean, if we’re analyzing data for a linear relationship and I want to show that Y increases as X and Z increases, then it becomes clear that the errors will be within a certain range. The errors should not be too far from the line, otherwise we’re not talking about a good linear relationship."
   ]
  },
  {
   "cell_type": "code",
   "execution_count": 9,
   "id": "5ab21ed5-39e7-4722-b9fa-42c5e9081b46",
   "metadata": {},
   "outputs": [
    {
     "name": "stdout",
     "output_type": "stream",
     "text": [
      "Test stat: 14.254047656267296\n",
      "p-Value: 0.16171589669143943\n",
      "F-Value: 1.4537311759619485\n",
      "f_p_value: 0.16108656286703804\n"
     ]
    }
   ],
   "source": [
    "# Ho = Homocedasticity = P > 0.05\n",
    "# Ha = There's no homocedasticity = p <=0.05\n",
    "# Homocedasticity test\n",
    "stat, p, f, fp = sms.het_breuschpagan(model_resid, model.model.exog)\n",
    "print(f'Test stat: {stat}')\n",
    "print(f'p-Value: {p}')\n",
    "print(f'F-Value: {f}')\n",
    "print(f'f_p_value: {fp}')"
   ]
  },
  {
   "cell_type": "code",
   "execution_count": 10,
   "id": "036d9a6a-2356-4c80-b1fd-39a5724b1e09",
   "metadata": {},
   "outputs": [
    {
     "data": {
      "image/png": "[encoded data removed]",
      "text/plain": [
       "<Figure size 432x288 with 1 Axes>"
      ]
     },
     "metadata": {
      "needs_background": "light"
     },
     "output_type": "display_data"
    }
   ],
   "source": [
    "plt.scatter(y= model_resid, x=model.predict(), color='red')\n",
    "plt.hlines(y=0, xmin=0, xmax=4, color='orange')\n",
    "plt.xlabel('Predicted values')\n",
    "plt.ylabel('Residuals')\n",
    "plt.show()"
   ]
  },
  {
   "cell_type": "markdown",
   "id": "02f68d82-54fe-406e-950f-94390d1a0471",
   "metadata": {},
   "source": [
    "#### Outliers Test\n",
    "Along with the last test, another good test is the presence of outliers in the residuals. That test will help us to determine if there is any spots where our model is not being able to give a sensate result. It confirms the quality of the model. It is recommended that the numbers are between -3 and 3 or even -5 and 5."
   ]
  },
  {
   "cell_type": "code",
   "execution_count": 11,
   "id": "6607e23c-3c1c-4ade-89a1-1afd0fba7fd6",
   "metadata": {},
   "outputs": [
    {
     "name": "stdout",
     "output_type": "stream",
     "text": [
      "student_resid    3.254315\n",
      "unadj_p          0.999499\n",
      "bonf(p)          1.000000\n",
      "dtype: float64\n",
      "student_resid   -2.460243\n",
      "unadj_p          0.001377\n",
      "bonf(p)          0.245188\n",
      "dtype: float64\n"
     ]
    }
   ],
   "source": [
    "# Outliers test\n",
    "outliers = model.outlier_test()\n",
    "print(outliers.max())\n",
    "print(outliers.min())"
   ]
  },
  {
   "cell_type": "markdown",
   "id": "e46a25e1-b12b-4a59-ac2f-5be8d6584750",
   "metadata": {},
   "source": [
    "#### Residuals Independence\n",
    "The independence of the residuals means that the observations are independent as well. So the measurement of something on a moment t1 does not influence the measurement on a moment t2.\n",
    "Here, the closer the statistic of the test is to 2, the better. It means that the correlation (r) is near zero and, when plugged in this formula 2 x (1-r) it will give us 2 as result."
   ]
  },
  {
   "cell_type": "code",
   "execution_count": 12,
   "id": "3ffba691-6532-4571-a36e-253b94e072bc",
   "metadata": {},
   "outputs": [
    {
     "name": "stdout",
     "output_type": "stream",
     "text": [
      "Test stat: 1.5212847896408193\n"
     ]
    }
   ],
   "source": [
    "print( f'Test stat: {durbin_watson(model_resid)}')"
   ]
  },
  {
   "cell_type": "markdown",
   "id": "8c63b3ea-058c-4e03-98ce-7ac6c4e54ce9",
   "metadata": {},
   "source": [
    "#### Multicollinearity\n",
    "Multicollinearity can mess up a linear regression model.\n",
    "When it is present, there is loss of information for the model calculating the OLS. Thus, the more multicollinearity, the less information for the model.\n",
    "The problem with multicollinearity is the increase of the estimated parameters’ magnitude of their variance. That is because the presence of high levels of correlations between the independent variables makes impossible to estimate with precision the effect of each variable over the dependent variable. (FIGUEIREDO FILHO et all, 2011)."
   ]
  },
  {
   "cell_type": "code",
   "execution_count": 13,
   "id": "beb7f208-aaa0-4c53-bd42-1d469ae27e88",
   "metadata": {},
   "outputs": [
    {
     "data": {
      "text/html": [
       "<div>\n",
       "<style scoped>\n",
       "    .dataframe tbody tr th:only-of-type {\n",
       "        vertical-align: middle;\n",
       "    }\n",
       "\n",
       "    .dataframe tbody tr th {\n",
       "        vertical-align: top;\n",
       "    }\n",
       "\n",
       "    .dataframe thead th {\n",
       "        text-align: right;\n",
       "    }\n",
       "</style>\n",
       "<table border=\"1\" class=\"dataframe\">\n",
       "  <thead>\n",
       "    <tr style=\"text-align: right;\">\n",
       "      <th></th>\n",
       "      <th>alcohol</th>\n",
       "      <th>malic_acid</th>\n",
       "      <th>ash</th>\n",
       "      <th>alcalinity_of_ash</th>\n",
       "      <th>magnesium</th>\n",
       "      <th>total_phenols</th>\n",
       "      <th>flavanoids</th>\n",
       "      <th>nonflavanoid_phenols</th>\n",
       "      <th>proanthocyanins</th>\n",
       "      <th>color_intensity</th>\n",
       "      <th>hue</th>\n",
       "      <th>test_diluted_wines</th>\n",
       "      <th>proline</th>\n",
       "    </tr>\n",
       "  </thead>\n",
       "  <tbody>\n",
       "    <tr>\n",
       "      <th>alcohol</th>\n",
       "      <td>1.000000</td>\n",
       "      <td>0.094397</td>\n",
       "      <td>0.211545</td>\n",
       "      <td>-0.310235</td>\n",
       "      <td>0.270798</td>\n",
       "      <td>0.289101</td>\n",
       "      <td>0.236815</td>\n",
       "      <td>-0.155929</td>\n",
       "      <td>0.136698</td>\n",
       "      <td>0.546364</td>\n",
       "      <td>-0.071747</td>\n",
       "      <td>0.072343</td>\n",
       "      <td>0.643720</td>\n",
       "    </tr>\n",
       "    <tr>\n",
       "      <th>malic_acid</th>\n",
       "      <td>0.094397</td>\n",
       "      <td>1.000000</td>\n",
       "      <td>0.164045</td>\n",
       "      <td>0.288500</td>\n",
       "      <td>-0.054575</td>\n",
       "      <td>-0.335167</td>\n",
       "      <td>-0.411007</td>\n",
       "      <td>0.292977</td>\n",
       "      <td>-0.220746</td>\n",
       "      <td>0.248985</td>\n",
       "      <td>-0.561296</td>\n",
       "      <td>-0.368710</td>\n",
       "      <td>-0.192011</td>\n",
       "    </tr>\n",
       "    <tr>\n",
       "      <th>ash</th>\n",
       "      <td>0.211545</td>\n",
       "      <td>0.164045</td>\n",
       "      <td>1.000000</td>\n",
       "      <td>0.443367</td>\n",
       "      <td>0.286587</td>\n",
       "      <td>0.128980</td>\n",
       "      <td>0.115077</td>\n",
       "      <td>0.186230</td>\n",
       "      <td>0.009652</td>\n",
       "      <td>0.258887</td>\n",
       "      <td>-0.074667</td>\n",
       "      <td>0.003911</td>\n",
       "      <td>0.223626</td>\n",
       "    </tr>\n",
       "    <tr>\n",
       "      <th>alcalinity_of_ash</th>\n",
       "      <td>-0.310235</td>\n",
       "      <td>0.288500</td>\n",
       "      <td>0.443367</td>\n",
       "      <td>1.000000</td>\n",
       "      <td>-0.083333</td>\n",
       "      <td>-0.321113</td>\n",
       "      <td>-0.351370</td>\n",
       "      <td>0.361922</td>\n",
       "      <td>-0.197327</td>\n",
       "      <td>0.018732</td>\n",
       "      <td>-0.273955</td>\n",
       "      <td>-0.276769</td>\n",
       "      <td>-0.440597</td>\n",
       "    </tr>\n",
       "    <tr>\n",
       "      <th>magnesium</th>\n",
       "      <td>0.270798</td>\n",
       "      <td>-0.054575</td>\n",
       "      <td>0.286587</td>\n",
       "      <td>-0.083333</td>\n",
       "      <td>1.000000</td>\n",
       "      <td>0.214401</td>\n",
       "      <td>0.195784</td>\n",
       "      <td>-0.256294</td>\n",
       "      <td>0.236441</td>\n",
       "      <td>0.199950</td>\n",
       "      <td>0.055398</td>\n",
       "      <td>0.066004</td>\n",
       "      <td>0.393351</td>\n",
       "    </tr>\n",
       "    <tr>\n",
       "      <th>total_phenols</th>\n",
       "      <td>0.289101</td>\n",
       "      <td>-0.335167</td>\n",
       "      <td>0.128980</td>\n",
       "      <td>-0.321113</td>\n",
       "      <td>0.214401</td>\n",
       "      <td>1.000000</td>\n",
       "      <td>0.864564</td>\n",
       "      <td>-0.449935</td>\n",
       "      <td>0.612413</td>\n",
       "      <td>-0.055136</td>\n",
       "      <td>0.433681</td>\n",
       "      <td>0.699949</td>\n",
       "      <td>0.498115</td>\n",
       "    </tr>\n",
       "    <tr>\n",
       "      <th>flavanoids</th>\n",
       "      <td>0.236815</td>\n",
       "      <td>-0.411007</td>\n",
       "      <td>0.115077</td>\n",
       "      <td>-0.351370</td>\n",
       "      <td>0.195784</td>\n",
       "      <td>0.864564</td>\n",
       "      <td>1.000000</td>\n",
       "      <td>-0.537900</td>\n",
       "      <td>0.652692</td>\n",
       "      <td>-0.172379</td>\n",
       "      <td>0.543479</td>\n",
       "      <td>0.787194</td>\n",
       "      <td>0.494193</td>\n",
       "    </tr>\n",
       "    <tr>\n",
       "      <th>nonflavanoid_phenols</th>\n",
       "      <td>-0.155929</td>\n",
       "      <td>0.292977</td>\n",
       "      <td>0.186230</td>\n",
       "      <td>0.361922</td>\n",
       "      <td>-0.256294</td>\n",
       "      <td>-0.449935</td>\n",
       "      <td>-0.537900</td>\n",
       "      <td>1.000000</td>\n",
       "      <td>-0.365845</td>\n",
       "      <td>0.139057</td>\n",
       "      <td>-0.262640</td>\n",
       "      <td>-0.503270</td>\n",
       "      <td>-0.311385</td>\n",
       "    </tr>\n",
       "    <tr>\n",
       "      <th>proanthocyanins</th>\n",
       "      <td>0.136698</td>\n",
       "      <td>-0.220746</td>\n",
       "      <td>0.009652</td>\n",
       "      <td>-0.197327</td>\n",
       "      <td>0.236441</td>\n",
       "      <td>0.612413</td>\n",
       "      <td>0.652692</td>\n",
       "      <td>-0.365845</td>\n",
       "      <td>1.000000</td>\n",
       "      <td>-0.025250</td>\n",
       "      <td>0.295544</td>\n",
       "      <td>0.519067</td>\n",
       "      <td>0.330417</td>\n",
       "    </tr>\n",
       "    <tr>\n",
       "      <th>color_intensity</th>\n",
       "      <td>0.546364</td>\n",
       "      <td>0.248985</td>\n",
       "      <td>0.258887</td>\n",
       "      <td>0.018732</td>\n",
       "      <td>0.199950</td>\n",
       "      <td>-0.055136</td>\n",
       "      <td>-0.172379</td>\n",
       "      <td>0.139057</td>\n",
       "      <td>-0.025250</td>\n",
       "      <td>1.000000</td>\n",
       "      <td>-0.521813</td>\n",
       "      <td>-0.428815</td>\n",
       "      <td>0.316100</td>\n",
       "    </tr>\n",
       "    <tr>\n",
       "      <th>hue</th>\n",
       "      <td>-0.071747</td>\n",
       "      <td>-0.561296</td>\n",
       "      <td>-0.074667</td>\n",
       "      <td>-0.273955</td>\n",
       "      <td>0.055398</td>\n",
       "      <td>0.433681</td>\n",
       "      <td>0.543479</td>\n",
       "      <td>-0.262640</td>\n",
       "      <td>0.295544</td>\n",
       "      <td>-0.521813</td>\n",
       "      <td>1.000000</td>\n",
       "      <td>0.565468</td>\n",
       "      <td>0.236183</td>\n",
       "    </tr>\n",
       "    <tr>\n",
       "      <th>test_diluted_wines</th>\n",
       "      <td>0.072343</td>\n",
       "      <td>-0.368710</td>\n",
       "      <td>0.003911</td>\n",
       "      <td>-0.276769</td>\n",
       "      <td>0.066004</td>\n",
       "      <td>0.699949</td>\n",
       "      <td>0.787194</td>\n",
       "      <td>-0.503270</td>\n",
       "      <td>0.519067</td>\n",
       "      <td>-0.428815</td>\n",
       "      <td>0.565468</td>\n",
       "      <td>1.000000</td>\n",
       "      <td>0.312761</td>\n",
       "    </tr>\n",
       "    <tr>\n",
       "      <th>proline</th>\n",
       "      <td>0.643720</td>\n",
       "      <td>-0.192011</td>\n",
       "      <td>0.223626</td>\n",
       "      <td>-0.440597</td>\n",
       "      <td>0.393351</td>\n",
       "      <td>0.498115</td>\n",
       "      <td>0.494193</td>\n",
       "      <td>-0.311385</td>\n",
       "      <td>0.330417</td>\n",
       "      <td>0.316100</td>\n",
       "      <td>0.236183</td>\n",
       "      <td>0.312761</td>\n",
       "      <td>1.000000</td>\n",
       "    </tr>\n",
       "  </tbody>\n",
       "</table>\n",
       "</div>"
      ],
      "text/plain": [
       "                       alcohol  malic_acid       ash  alcalinity_of_ash  \\\n",
       "alcohol               1.000000    0.094397  0.211545          -0.310235   \n",
       "malic_acid            0.094397    1.000000  0.164045           0.288500   \n",
       "ash                   0.211545    0.164045  1.000000           0.443367   \n",
       "alcalinity_of_ash    -0.310235    0.288500  0.443367           1.000000   \n",
       "magnesium             0.270798   -0.054575  0.286587          -0.083333   \n",
       "total_phenols         0.289101   -0.335167  0.128980          -0.321113   \n",
       "flavanoids            0.236815   -0.411007  0.115077          -0.351370   \n",
       "nonflavanoid_phenols -0.155929    0.292977  0.186230           0.361922   \n",
       "proanthocyanins       0.136698   -0.220746  0.009652          -0.197327   \n",
       "color_intensity       0.546364    0.248985  0.258887           0.018732   \n",
       "hue                  -0.071747   -0.561296 -0.074667          -0.273955   \n",
       "test_diluted_wines    0.072343   -0.368710  0.003911          -0.276769   \n",
       "proline               0.643720   -0.192011  0.223626          -0.440597   \n",
       "\n",
       "                      magnesium  total_phenols  flavanoids  \\\n",
       "alcohol                0.270798       0.289101    0.236815   \n",
       "malic_acid            -0.054575      -0.335167   -0.411007   \n",
       "ash                    0.286587       0.128980    0.115077   \n",
       "alcalinity_of_ash     -0.083333      -0.321113   -0.351370   \n",
       "magnesium              1.000000       0.214401    0.195784   \n",
       "total_phenols          0.214401       1.000000    0.864564   \n",
       "flavanoids             0.195784       0.864564    1.000000   \n",
       "nonflavanoid_phenols  -0.256294      -0.449935   -0.537900   \n",
       "proanthocyanins        0.236441       0.612413    0.652692   \n",
       "color_intensity        0.199950      -0.055136   -0.172379   \n",
       "hue                    0.055398       0.433681    0.543479   \n",
       "test_diluted_wines     0.066004       0.699949    0.787194   \n",
       "proline                0.393351       0.498115    0.494193   \n",
       "\n",
       "                      nonflavanoid_phenols  proanthocyanins  color_intensity  \\\n",
       "alcohol                          -0.155929         0.136698         0.546364   \n",
       "malic_acid                        0.292977        -0.220746         0.248985   \n",
       "ash                               0.186230         0.009652         0.258887   \n",
       "alcalinity_of_ash                 0.361922        -0.197327         0.018732   \n",
       "magnesium                        -0.256294         0.236441         0.199950   \n",
       "total_phenols                    -0.449935         0.612413        -0.055136   \n",
       "flavanoids                       -0.537900         0.652692        -0.172379   \n",
       "nonflavanoid_phenols              1.000000        -0.365845         0.139057   \n",
       "proanthocyanins                  -0.365845         1.000000        -0.025250   \n",
       "color_intensity                   0.139057        -0.025250         1.000000   \n",
       "hue                              -0.262640         0.295544        -0.521813   \n",
       "test_diluted_wines               -0.503270         0.519067        -0.428815   \n",
       "proline                          -0.311385         0.330417         0.316100   \n",
       "\n",
       "                           hue  test_diluted_wines   proline  \n",
       "alcohol              -0.071747            0.072343  0.643720  \n",
       "malic_acid           -0.561296           -0.368710 -0.192011  \n",
       "ash                  -0.074667            0.003911  0.223626  \n",
       "alcalinity_of_ash    -0.273955           -0.276769 -0.440597  \n",
       "magnesium             0.055398            0.066004  0.393351  \n",
       "total_phenols         0.433681            0.699949  0.498115  \n",
       "flavanoids            0.543479            0.787194  0.494193  \n",
       "nonflavanoid_phenols -0.262640           -0.503270 -0.311385  \n",
       "proanthocyanins       0.295544            0.519067  0.330417  \n",
       "color_intensity      -0.521813           -0.428815  0.316100  \n",
       "hue                   1.000000            0.565468  0.236183  \n",
       "test_diluted_wines    0.565468            1.000000  0.312761  \n",
       "proline               0.236183            0.312761  1.000000  "
      ]
     },
     "execution_count": 13,
     "metadata": {},
     "output_type": "execute_result"
    }
   ],
   "source": [
    "# check correlations\n",
    "variables = df.drop('target', axis=1)\n",
    "variables.corr()"
   ]
  },
  {
   "cell_type": "markdown",
   "id": "995e5e83-6094-460c-a45f-929f74854b0b",
   "metadata": {},
   "source": [
    "You can also use the Variation Inflation Factor, as this gives you a single number to look at. It calculates the variance of a given variable influenced by the others. Rules of thumb say that the number should be below 10. Some say below 7.\n"
   ]
  },
  {
   "cell_type": "code",
   "execution_count": 15,
   "id": "37b4b597-3441-4ad6-a23f-f4e6426a388d",
   "metadata": {},
   "outputs": [
    {
     "data": {
      "text/plain": [
       "const                   680.485185\n",
       "alcohol                   2.460372\n",
       "malic_acid                1.656647\n",
       "ash                       2.185448\n",
       "alcalinity_of_ash         2.238732\n",
       "magnesium                 1.417855\n",
       "total_phenols             4.334519\n",
       "flavanoids                7.029350\n",
       "nonflavanoid_phenols      1.796380\n",
       "proanthocyanins           1.975683\n",
       "color_intensity           3.026304\n",
       "hue                       2.551447\n",
       "test_diluted_wines        3.785473\n",
       "proline                   2.823849\n",
       "dtype: float64"
      ]
     },
     "execution_count": 15,
     "metadata": {},
     "output_type": "execute_result"
    }
   ],
   "source": [
    "from statsmodels.stats.outliers_influence import variance_inflation_factor\n",
    "from statsmodels.tools.tools import add_constant\n",
    "# VIF Test\n",
    "vif = add_constant(variables)\n",
    "pd.Series([variance_inflation_factor(vif.values, i) for i in range(vif.shape[1])], index=vif.columns)"
   ]
  },
  {
   "cell_type": "markdown",
   "id": "bb64d304-1362-4bc7-95c8-484526d5dadd",
   "metadata": {},
   "source": [
    "### Model Analysis\n",
    "After the model passed all of those tests, we’re now in a good shape to evaluate it’s summary. statsmodels brings a great one."
   ]
  },
  {
   "cell_type": "code",
   "execution_count": 16,
   "id": "675dadaa-ecf6-416d-baff-f617f9a61239",
   "metadata": {},
   "outputs": [
    {
     "name": "stdout",
     "output_type": "stream",
     "text": [
      "                            OLS Regression Results                            \n",
      "==============================================================================\n",
      "Dep. Variable:                 target   R-squared:                       0.898\n",
      "Model:                            OLS   Adj. R-squared:                  0.892\n",
      "Method:                 Least Squares   F-statistic:                     147.6\n",
      "Date:                Wed, 22 Dec 2021   Prob (F-statistic):           1.81e-77\n",
      "Time:                        10:56:35   Log-Likelihood:                -3.2069\n",
      "No. Observations:                 178   AIC:                             28.41\n",
      "Df Residuals:                     167   BIC:                             63.41\n",
      "Df Model:                          10                                         \n",
      "Covariance Type:            nonrobust                                         \n",
      "========================================================================================\n",
      "                           coef    std err          t      P>|t|      [0.025      0.975]\n",
      "----------------------------------------------------------------------------------------\n",
      "Intercept                3.4742      0.478      7.269      0.000       2.531       4.418\n",
      "alcohol                 -0.1093      0.036     -3.052      0.003      -0.180      -0.039\n",
      "ash                     -0.1582      0.097     -1.635      0.104      -0.349       0.033\n",
      "alcalinity_of_ash        0.0416      0.008      4.912      0.000       0.025       0.058\n",
      "total_phenols            0.1487      0.063      2.352      0.020       0.024       0.273\n",
      "flavanoids              -0.3642      0.048     -7.576      0.000      -0.459      -0.269\n",
      "nonflavanoid_phenols    -0.2607      0.197     -1.326      0.187      -0.649       0.127\n",
      "color_intensity          0.0747      0.014      5.327      0.000       0.047       0.102\n",
      "hue                     -0.2281      0.122     -1.867      0.064      -0.469       0.013\n",
      "test_diluted_wines      -0.2638      0.052     -5.091      0.000      -0.366      -0.161\n",
      "proline                 -0.0007      0.000     -7.099      0.000      -0.001      -0.001\n",
      "==============================================================================\n",
      "Omnibus:                        0.675   Durbin-Watson:                   1.521\n",
      "Prob(Omnibus):                  0.713   Jarque-Bera (JB):                0.795\n",
      "Skew:                           0.130   Prob(JB):                        0.672\n",
      "Kurtosis:                       2.801   Cond. No.                     2.04e+04\n",
      "==============================================================================\n",
      "\n",
      "Notes:\n",
      "[1] Standard Errors assume that the covariance matrix of the errors is correctly specified.\n",
      "[2] The condition number is large, 2.04e+04. This might indicate that there are\n",
      "strong multicollinearity or other numerical problems.\n"
     ]
    }
   ],
   "source": [
    "print( model.summary() )"
   ]
  },
  {
   "cell_type": "markdown",
   "id": "5f8929d1-c37f-4f14-8d46-2f275f4f9cf9",
   "metadata": {},
   "source": [
    "Our model is good. We should look at the R-Squared to see how much of the relationship the linear equation was able to explain. It was 89%. If we want to know how well those variables chosen actually affects the target and explains variance, then we should look at R2-Adjusted, usually also used to compare models together with AIC and BIC (those last two metrics mentioned , the lower the better).\n",
    "\n",
    "Both R2 and the adjusted R2 give you an idea of how many data points fall within the line of the regression equation. However, there is one main difference between R2 and the adjusted R2: R2 assumes that every single variable explains the variation in the dependent variable. The adjusted R2 tells you the percentage of variation explained by only the independent variables that actually affect the dependent variable.\n",
    "Look at the P > |t| column which is the p-Value of each variable. It explains the statistical significance of that for the model. The ideal is to have everything under the significance level of 0.05. There are a couple there over that threshold.\n",
    "We’re loosing 10% of the variance due to something. In order to improve this model, there should be a complete data exploration, feature engineering, perform transformations if needed. Well, many possibilities."
   ]
  },
  {
   "cell_type": "code",
   "execution_count": null,
   "id": "c2af9738-e2a7-411b-ac7f-bae25f23eb7c",
   "metadata": {},
   "outputs": [],
   "source": []
  }
 ],
 "metadata": {
  "kernelspec": {
   "display_name": "Python 3",
   "language": "python",
   "name": "python3"
  },
  "language_info": {
   "codemirror_mode": {
    "name": "ipython",
    "version": 3
   },
   "file_extension": ".py",
   "mimetype": "text/x-python",
   "name": "python",
   "nbconvert_exporter": "python",
   "pygments_lexer": "ipython3",
   "version": "3.8.5"
  }
 },
 "nbformat": 4,
 "nbformat_minor": 5
}
