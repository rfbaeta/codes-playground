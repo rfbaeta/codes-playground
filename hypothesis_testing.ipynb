{
 "cells": [
  {
   "cell_type": "markdown",
   "id": "d057eb59",
   "metadata": {},
   "source": [
    "## Hypothesis Testing\n",
    "\n",
    "Hypothesis testing is an important part of statistics and data analysis. Most of the time it is practically not possible to take data from a total population. In that case, we take a sample and make estimations or claims about the total population. These assumptions or claims are hypotheses. Hypothesis testing is the process to test if there is evidence to reject that hypothesis.\n",
    "\n",
    "https://towardsdatascience.com/a-complete-guide-to-hypothesis-testing-for-data-scientists-using-python-69f670e6779e"
   ]
  },
  {
   "cell_type": "code",
   "execution_count": 1,
   "id": "0bc5a89b",
   "metadata": {},
   "outputs": [],
   "source": [
    "import pandas as pd\n",
    "import numpy as np\n",
    "import seaborn as sns\n",
    "import statsmodels.api as sm\n",
    "import scipy.stats.distributions as dist"
   ]
  },
  {
   "cell_type": "markdown",
   "id": "1e908543",
   "metadata": {},
   "source": [
    "cp - chest pain type\n",
    "\n",
    "trestbps - restring blood pressure\n",
    "\n",
    "chol - serum cholestoral in mg/dl\n",
    "\n",
    "fbs - (fasting blood sugar &gt; 120 mg/dl) (1 = true; 0 = false)\n",
    "\n",
    "restecg - resting electrocardiographic results\n",
    "\n",
    "thalac - maximum heart rate achieved\n",
    "\n",
    "exang - exercise induced angina (1 = yes; 0 = no)\n",
    "\n",
    "oldpeak - ST depression induced by exercise relative to rest\n",
    "\n",
    "slope - the slope of the peak exercise ST segment\n",
    "\n",
    "ca - number of major vessels (0-3) colored by flourosopy\n",
    "\n",
    "thal: 0 = normal; 1 = fixed defect; 2 = reversable defect"
   ]
  },
  {
   "cell_type": "code",
   "execution_count": 2,
   "id": "2d6d13e1",
   "metadata": {},
   "outputs": [
    {
     "data": {
      "text/html": [
       "<div>\n",
       "<style scoped>\n",
       "    .dataframe tbody tr th:only-of-type {\n",
       "        vertical-align: middle;\n",
       "    }\n",
       "\n",
       "    .dataframe tbody tr th {\n",
       "        vertical-align: top;\n",
       "    }\n",
       "\n",
       "    .dataframe thead th {\n",
       "        text-align: right;\n",
       "    }\n",
       "</style>\n",
       "<table border=\"1\" class=\"dataframe\">\n",
       "  <thead>\n",
       "    <tr style=\"text-align: right;\">\n",
       "      <th></th>\n",
       "      <th>age</th>\n",
       "      <th>sex</th>\n",
       "      <th>cp</th>\n",
       "      <th>trestbps</th>\n",
       "      <th>chol</th>\n",
       "      <th>fbs</th>\n",
       "      <th>restecg</th>\n",
       "      <th>thalach</th>\n",
       "      <th>exang</th>\n",
       "      <th>oldpeak</th>\n",
       "      <th>slope</th>\n",
       "      <th>ca</th>\n",
       "      <th>thal</th>\n",
       "      <th>target</th>\n",
       "    </tr>\n",
       "  </thead>\n",
       "  <tbody>\n",
       "    <tr>\n",
       "      <th>0</th>\n",
       "      <td>52</td>\n",
       "      <td>1</td>\n",
       "      <td>0</td>\n",
       "      <td>125</td>\n",
       "      <td>212</td>\n",
       "      <td>0</td>\n",
       "      <td>1</td>\n",
       "      <td>168</td>\n",
       "      <td>0</td>\n",
       "      <td>1.0</td>\n",
       "      <td>2</td>\n",
       "      <td>2</td>\n",
       "      <td>3</td>\n",
       "      <td>0</td>\n",
       "    </tr>\n",
       "    <tr>\n",
       "      <th>1</th>\n",
       "      <td>53</td>\n",
       "      <td>1</td>\n",
       "      <td>0</td>\n",
       "      <td>140</td>\n",
       "      <td>203</td>\n",
       "      <td>1</td>\n",
       "      <td>0</td>\n",
       "      <td>155</td>\n",
       "      <td>1</td>\n",
       "      <td>3.1</td>\n",
       "      <td>0</td>\n",
       "      <td>0</td>\n",
       "      <td>3</td>\n",
       "      <td>0</td>\n",
       "    </tr>\n",
       "    <tr>\n",
       "      <th>2</th>\n",
       "      <td>70</td>\n",
       "      <td>1</td>\n",
       "      <td>0</td>\n",
       "      <td>145</td>\n",
       "      <td>174</td>\n",
       "      <td>0</td>\n",
       "      <td>1</td>\n",
       "      <td>125</td>\n",
       "      <td>1</td>\n",
       "      <td>2.6</td>\n",
       "      <td>0</td>\n",
       "      <td>0</td>\n",
       "      <td>3</td>\n",
       "      <td>0</td>\n",
       "    </tr>\n",
       "    <tr>\n",
       "      <th>3</th>\n",
       "      <td>61</td>\n",
       "      <td>1</td>\n",
       "      <td>0</td>\n",
       "      <td>148</td>\n",
       "      <td>203</td>\n",
       "      <td>0</td>\n",
       "      <td>1</td>\n",
       "      <td>161</td>\n",
       "      <td>0</td>\n",
       "      <td>0.0</td>\n",
       "      <td>2</td>\n",
       "      <td>1</td>\n",
       "      <td>3</td>\n",
       "      <td>0</td>\n",
       "    </tr>\n",
       "    <tr>\n",
       "      <th>4</th>\n",
       "      <td>62</td>\n",
       "      <td>0</td>\n",
       "      <td>0</td>\n",
       "      <td>138</td>\n",
       "      <td>294</td>\n",
       "      <td>1</td>\n",
       "      <td>1</td>\n",
       "      <td>106</td>\n",
       "      <td>0</td>\n",
       "      <td>1.9</td>\n",
       "      <td>1</td>\n",
       "      <td>3</td>\n",
       "      <td>2</td>\n",
       "      <td>0</td>\n",
       "    </tr>\n",
       "  </tbody>\n",
       "</table>\n",
       "</div>"
      ],
      "text/plain": [
       "   age  sex  cp  trestbps  chol  fbs  restecg  thalach  exang  oldpeak  slope  \\\n",
       "0   52    1   0       125   212    0        1      168      0      1.0      2   \n",
       "1   53    1   0       140   203    1        0      155      1      3.1      0   \n",
       "2   70    1   0       145   174    0        1      125      1      2.6      0   \n",
       "3   61    1   0       148   203    0        1      161      0      0.0      2   \n",
       "4   62    0   0       138   294    1        1      106      0      1.9      1   \n",
       "\n",
       "   ca  thal  target  \n",
       "0   2     3       0  \n",
       "1   0     3       0  \n",
       "2   0     3       0  \n",
       "3   1     3       0  \n",
       "4   3     2       0  "
      ]
     },
     "execution_count": 2,
     "metadata": {},
     "output_type": "execute_result"
    }
   ],
   "source": [
    "df = pd.read_csv('./data/heart2.csv')\n",
    "df.head()"
   ]
  },
  {
   "cell_type": "code",
   "execution_count": 5,
   "id": "1ef34d2f",
   "metadata": {},
   "outputs": [
    {
     "name": "stdout",
     "output_type": "stream",
     "text": [
      "Index(['age', 'sex', 'cp', 'trestbps', 'chol', 'fbs', 'restecg', 'thalach',\n",
      "       'exang', 'oldpeak', 'slope', 'ca', 'thal', 'target'],\n",
      "      dtype='object')\n"
     ]
    }
   ],
   "source": [
    "print(df.columns)"
   ]
  },
  {
   "cell_type": "markdown",
   "id": "6bbbfa72",
   "metadata": {},
   "source": [
    "The last column of the dataset is ‘target’. That is if the person has heart disease. The research question for this section is,\n",
    "\n",
    "#### “The population proportion of Ireland having heart disease is 42%. Are more people suffering from heart disease in the US”?"
   ]
  },
  {
   "cell_type": "markdown",
   "id": "5e1bfbbb",
   "metadata": {},
   "source": [
    "#### Step 1 \n",
    "Define the null hypothesis and alternative hypothesis.\n",
    "In this problem, the null hypothesis is the population proportion having heart disease in the US is less than or equal to 42%. But if we test for equal to less than will be covered automatically. So, I am making it only equal to.\n",
    "And the alternative hypothesis is the population proportion of the US having heart disease is more than 42%.\n",
    "\n",
    "Ho: p0 = 0.42  #null hypothesis Ho\n",
    "\n",
    "Ha: p > 0.42  #alternative hypothesis Ha"
   ]
  },
  {
   "cell_type": "markdown",
   "id": "15f1681a",
   "metadata": {},
   "source": [
    "#### Step 2\n",
    "Assume that the dataset above is a representative sample from the population of the US. So, calculate the population proportion of the US having heart disease."
   ]
  },
  {
   "cell_type": "code",
   "execution_count": 28,
   "id": "0b10f061",
   "metadata": {},
   "outputs": [
    {
     "data": {
      "text/plain": [
       "0.5131707317073171"
      ]
     },
     "execution_count": 28,
     "metadata": {},
     "output_type": "execute_result"
    }
   ],
   "source": [
    "p_us = len(df[df['target']==1])/len(df)\n",
    "p_us"
   ]
  },
  {
   "cell_type": "markdown",
   "id": "614aa70f",
   "metadata": {},
   "source": [
    "The population proportion of the sample having heart disease is 0.51 or 51%. This percentage is more than the null hypothesis. That is 42%.\n",
    "\n",
    "But the question is if it is significantly more than 42%. If we take a different simple random sample, the currently observed population proportion (51%) can be different.\n",
    "\n",
    "To find out if the observed population proportion is significantly more than the null hypothesis, perform a hypothesis test."
   ]
  },
  {
   "cell_type": "markdown",
   "id": "15f2cee5",
   "metadata": {},
   "source": [
    "#### Step 3\n",
    "Calculate the Test Statistic:\n"
   ]
  },
  {
   "cell_type": "markdown",
   "id": "af283c94",
   "metadata": {},
   "source": [
    "test_statistics = (Best_Estimate - Hypothesized_Estimate)/Standard_error_of_estimate"
   ]
  },
  {
   "cell_type": "markdown",
   "id": "82fbfaa1",
   "metadata": {},
   "source": [
    "SE = sqrt((p0*(1-p0))/n)"
   ]
  },
  {
   "cell_type": "markdown",
   "id": "4ef9e24e",
   "metadata": {},
   "source": [
    "In this formula, p0 is 0.42 (according to the null hypothesis) and n is the size of the sample population. "
   ]
  },
  {
   "cell_type": "code",
   "execution_count": 29,
   "id": "9c6a19d1",
   "metadata": {},
   "outputs": [],
   "source": [
    "se = np.sqrt(0.42 * (1-0.42) / len(df))"
   ]
  },
  {
   "cell_type": "code",
   "execution_count": 30,
   "id": "8a347bc3",
   "metadata": {},
   "outputs": [
    {
     "data": {
      "text/plain": [
       "1.5030140463472605"
      ]
     },
     "execution_count": 30,
     "metadata": {},
     "output_type": "execute_result"
    }
   ],
   "source": [
    "#Best estimate\n",
    "be = p_us  #hypothesized estimate\n",
    "he = 0.49\n",
    "test_stat = (be - he)/se\n",
    "test_stat"
   ]
  },
  {
   "cell_type": "markdown",
   "id": "2309b9c9",
   "metadata": {},
   "source": [
    "The test statistics came out to be 1.5030.\n"
   ]
  },
  {
   "cell_type": "markdown",
   "id": "5f99b06d",
   "metadata": {},
   "source": [
    "#### Step 4\n",
    "    \n",
    "Calculate the p-value\n"
   ]
  },
  {
   "cell_type": "markdown",
   "id": "026df8bc",
   "metadata": {},
   "source": [
    "This test statistic is also called z-score. You can find the p-value from a z_table or you can find the p-value from this formula in python."
   ]
  },
  {
   "cell_type": "code",
   "execution_count": 31,
   "id": "dd320496",
   "metadata": {},
   "outputs": [
    {
     "data": {
      "text/plain": [
       "0.1328354218859503"
      ]
     },
     "execution_count": 31,
     "metadata": {},
     "output_type": "execute_result"
    }
   ],
   "source": [
    "pvalue = 2*dist.norm.cdf(-np.abs(test_stat))\n",
    "pvalue"
   ]
  },
  {
   "cell_type": "markdown",
   "id": "42d394f7",
   "metadata": {},
   "source": [
    "The p-value is 0.1328. It means the sample population proportion (51% or 0.51) is 0.1328 null standard errors above the null hypothesis."
   ]
  },
  {
   "cell_type": "markdown",
   "id": "42cfa387",
   "metadata": {},
   "source": [
    "#### Step 5 \n",
    "Infer the conclusion from the p-value\n"
   ]
  },
  {
   "cell_type": "markdown",
   "id": "8737f7bd",
   "metadata": {},
   "source": [
    "Consider the significance level alpha to be 5% or 0.05. A significance level of 5% or less means that there is a probability of 95% or greater that the results are not random.\n",
    "\n",
    "#### Here p-value is bigger than our considered significance level of 0.05. So, we cannot reject the null hypothesis. That means there is no significant difference in population proportion having heart disease in Ireland and the US."
   ]
  },
  {
   "cell_type": "markdown",
   "id": "0ec6c3bd",
   "metadata": {},
   "source": [
    "### Hypothesis Tests for the Difference in Two Proportions"
   ]
  },
  {
   "cell_type": "markdown",
   "id": "af9b25cc",
   "metadata": {},
   "source": [
    "Comparative tests are conducted much more frequently than one population proportion hypothesis test. A two-sample test of proportions is performed to assess if the population proportion of some traits differs between two subgroups.\n"
   ]
  },
  {
   "cell_type": "markdown",
   "id": "37a136ea",
   "metadata": {},
   "source": [
    "Here, we are going to test if the population proportion of females with heart disease is different from the population proportion of males with heart disease.\n",
    "\n",
    "#### Step 1 \n",
    "Set up the null hypothesis, alternative hypothesis, and significance level.\n",
    "\n",
    "Here, we want to check if there is any difference between the population proportion of males and females having heart disease. We will start with the assumption that there is no difference.\n",
    "\n",
    "Ho: p1 -p2 = 0\n",
    "\n",
    "This is our null hypothesis. Here, p1 is the population proportion of females with heart disease and p2 is the population proportion of males having heart disease.\n",
    "\n",
    "What could be the alternative hypothesis?\n",
    "The alternative hypothesis can be, there is a difference.\n",
    "\n",
    "Ha: p1 - p2 != 0\n",
    "\n",
    "#### Step 2 \n",
    "\n",
    "Prepare a chart that shows the population proportion of males and females with heart disease and the total male and female population.\n"
   ]
  },
  {
   "cell_type": "code",
   "execution_count": 34,
   "id": "e42d8090",
   "metadata": {},
   "outputs": [
    {
     "data": {
      "text/html": [
       "<div>\n",
       "<style scoped>\n",
       "    .dataframe tbody tr th:only-of-type {\n",
       "        vertical-align: middle;\n",
       "    }\n",
       "\n",
       "    .dataframe tbody tr th {\n",
       "        vertical-align: top;\n",
       "    }\n",
       "\n",
       "    .dataframe thead th {\n",
       "        text-align: right;\n",
       "    }\n",
       "</style>\n",
       "<table border=\"1\" class=\"dataframe\">\n",
       "  <thead>\n",
       "    <tr style=\"text-align: right;\">\n",
       "      <th></th>\n",
       "      <th>HeartDisease</th>\n",
       "      <th>Total</th>\n",
       "    </tr>\n",
       "    <tr>\n",
       "      <th>Gender</th>\n",
       "      <th></th>\n",
       "      <th></th>\n",
       "    </tr>\n",
       "  </thead>\n",
       "  <tbody>\n",
       "    <tr>\n",
       "      <th>Female</th>\n",
       "      <td>0.724359</td>\n",
       "      <td>312</td>\n",
       "    </tr>\n",
       "    <tr>\n",
       "      <th>Male</th>\n",
       "      <td>0.420757</td>\n",
       "      <td>713</td>\n",
       "    </tr>\n",
       "  </tbody>\n",
       "</table>\n",
       "</div>"
      ],
      "text/plain": [
       "        HeartDisease  Total\n",
       "Gender                     \n",
       "Female      0.724359    312\n",
       "Male        0.420757    713"
      ]
     },
     "execution_count": 34,
     "metadata": {},
     "output_type": "execute_result"
    }
   ],
   "source": [
    "df['Gender'] = df.sex.replace({1: \"Male\", 0: \"Female\"})\n",
    "p = df.groupby(\"Gender\")['target'].agg([lambda z: np.mean(z==1), \"size\"])\n",
    "p.columns = [\"HeartDisease\", 'Total']\n",
    "p"
   ]
  },
  {
   "cell_type": "markdown",
   "id": "1004f137",
   "metadata": {},
   "source": [
    "#### Step 3\n",
    "Calculate the test statistic\n",
    "We will use the same formula for the test statistic as before. The best estimate is p1 — p2. Here, p1 is the population proportion of females with heart disease and p2 is the population proportion of males with heart disease.\n"
   ]
  },
  {
   "cell_type": "code",
   "execution_count": 37,
   "id": "00db1d2a",
   "metadata": {},
   "outputs": [],
   "source": [
    "#Best estimate is p1 - p2. Get p1 and p2 from the chart p above\n",
    "p_fe = p.HeartDisease.Female\n",
    "p_male = p.HeartDisease.Male"
   ]
  },
  {
   "cell_type": "markdown",
   "id": "ea197ea9",
   "metadata": {},
   "source": [
    "The standard error for two population proportion is calculated with the formula below:\n",
    "\n",
    "SE = sqrt(p(1-p)*((1/n2) + (1/n2)))\n",
    "\n",
    "Here, p is the total population proportion in the sample with heart disease. n1 and n2 are the total numbers of the female and male populations in the sample.\n"
   ]
  },
  {
   "cell_type": "code",
   "execution_count": 38,
   "id": "9643afc9",
   "metadata": {},
   "outputs": [
    {
     "data": {
      "text/plain": [
       "0.03392806959170294"
      ]
     },
     "execution_count": 38,
     "metadata": {},
     "output_type": "execute_result"
    }
   ],
   "source": [
    "n1 = p.Total.Female\n",
    "n2 = p.Total.Male\n",
    "se = np.sqrt(p_us*(1-p_us)*(1/n1 + 1/n2))\n",
    "se"
   ]
  },
  {
   "cell_type": "code",
   "execution_count": 39,
   "id": "6203757e",
   "metadata": {},
   "outputs": [
    {
     "data": {
      "text/plain": [
       "8.948390366994612"
      ]
     },
     "execution_count": 39,
     "metadata": {},
     "output_type": "execute_result"
    }
   ],
   "source": [
    "#calculate the best estimate\n",
    "be = p_fe - p_male  \n",
    "\n",
    "#Calculate the hypothesized estimate\n",
    "#Our null hypothesis is p1 - p2 = 0\n",
    "he = 0  \n",
    "\n",
    "#Calculate the test statistic\n",
    "test_statistic = (be - he)/se\n",
    "test_statistic"
   ]
  },
  {
   "cell_type": "markdown",
   "id": "1c518442",
   "metadata": {},
   "source": [
    "The calculated test_statistic is 8.9483. That means that the observed difference in sample proportions is 8.9483 estimated standard error below the hypothesized value.\n"
   ]
  },
  {
   "cell_type": "markdown",
   "id": "c49bfe21",
   "metadata": {},
   "source": [
    "#### Step 4\n",
    "Calculate the p-value\n"
   ]
  },
  {
   "cell_type": "code",
   "execution_count": 40,
   "id": "57f1a367",
   "metadata": {},
   "outputs": [
    {
     "data": {
      "text/plain": [
       "3.607034554789343e-19"
      ]
     },
     "execution_count": 40,
     "metadata": {},
     "output_type": "execute_result"
    }
   ],
   "source": [
    "pvalue = 2*dist.norm.cdf(-np.abs(test_statistic))\n",
    "pvalue"
   ]
  },
  {
   "cell_type": "markdown",
   "id": "43498d7e",
   "metadata": {},
   "source": [
    "The p-value is 3.60e-19. That means more than 0% of the time we would see that the results we observed are true considering the null hypothesis is true.\n",
    "In another way, the p-value is smaller than the significance level (0.1). So, we have enough evidence to reject the null hypothesis.\n",
    "The population proportion of males with heart disease is significantly different than the population proportion of females with heart disease.\n"
   ]
  },
  {
   "cell_type": "markdown",
   "id": "ecefcae8",
   "metadata": {},
   "source": [
    "### Hypothesis Testing for One Mean\n",
    "\n",
    "This is a simple hypothesis testing process. We can perform this test if we have a specific fixed mean value to compare. Let’s work on an example to understand the process.\n",
    "\n",
    "This is the research question:\n",
    "#### “Check if the mean trestbps is great than 135”. \n",
    "\n",
    "Here, trestbps is resting blood pressure. We have a trestbps column in the DataFrame. Let’s solve this problem step by step.\n",
    "\n",
    "#### Step 1:\n",
    "\n",
    "State the hypothesis\n",
    "We need to find out if the mean trestbps is greater than 135. Let’s assume that the mean trestbps is less than or equal to 135.\n",
    "So, the null hypothesis can be that the mean trestbps is 135. Because if we can prove that the mean trestbps is greater than 135, it is automatically greater than 134 or 130.\n",
    "If we find enough evidence to reject the null hypothesis, we can accept that the mean trestbps is greater than 135. This is the alternative hypothesis for this example.\n",
    "\n",
    "Ho: mu = 135\n",
    "\n",
    "Ha: mu > 135\n",
    "\n"
   ]
  },
  {
   "cell_type": "code",
   "execution_count": 41,
   "id": "75aee255",
   "metadata": {},
   "outputs": [
    {
     "name": "stderr",
     "output_type": "stream",
     "text": [
      "/Users/rafaelbaetacarreira/opt/miniconda3/lib/python3.8/site-packages/seaborn/distributions.py:2557: FutureWarning: `distplot` is a deprecated function and will be removed in a future version. Please adapt your code to use either `displot` (a figure-level function with similar flexibility) or `histplot` (an axes-level function for histograms).\n",
      "  warnings.warn(msg, FutureWarning)\n"
     ]
    },
    {
     "data": {
      "text/plain": [
       "<AxesSubplot:xlabel='trestbps', ylabel='Density'>"
      ]
     },
     "execution_count": 41,
     "metadata": {},
     "output_type": "execute_result"
    },
    {
     "data": {
      "image/png": "[encoded data removed]",
      "text/plain": [
       "<Figure size 432x288 with 1 Axes>"
      ]
     },
     "metadata": {
      "needs_background": "light"
     },
     "output_type": "display_data"
    }
   ],
   "source": [
    "sns.distplot(df.trestbps)\n"
   ]
  },
  {
   "cell_type": "markdown",
   "id": "6bd36d42",
   "metadata": {},
   "source": [
    "The distribution is not exactly normal. But it is close to normal.\n",
    "The good news is, we do not need to worry about the normality of the data. Because we have a large enough sample size(more than 25 data)."
   ]
  },
  {
   "cell_type": "markdown",
   "id": "c8b9c53d",
   "metadata": {},
   "source": [
    "#### Step 3\n",
    "Calculate the test statistic\n",
    "\n",
    "Here is the formula to calculate the test statistic:\n",
    "    \n",
    "(Best_Estimate - Hypothesized_Estimate)/Standard_Error_Of_Estimate\n",
    "\n",
    "First, calculate the standard error using the formula below:\n",
    "\n",
    "SE = s/sqrt(n)\n",
    "\n",
    "Here, S is the sample standard deviation and n is the number of samples.\n"
   ]
  },
  {
   "cell_type": "code",
   "execution_count": 42,
   "id": "6695b488",
   "metadata": {},
   "outputs": [
    {
     "data": {
      "text/plain": [
       "0.5471303493683027"
      ]
     },
     "execution_count": 42,
     "metadata": {},
     "output_type": "execute_result"
    }
   ],
   "source": [
    "std= df.trestbps.std()\n",
    "n = len(df)\n",
    "se = std/np.sqrt(n)\n",
    "se"
   ]
  },
  {
   "cell_type": "markdown",
   "id": "dc5b1a74",
   "metadata": {},
   "source": [
    "Now, use this standard error to find the test statistic:\n"
   ]
  },
  {
   "cell_type": "code",
   "execution_count": 43,
   "id": "4a1b12b6",
   "metadata": {},
   "outputs": [
    {
     "data": {
      "text/plain": [
       "240.5490893879811"
      ]
     },
     "execution_count": 43,
     "metadata": {},
     "output_type": "execute_result"
    }
   ],
   "source": [
    "#Best estimate\n",
    "be = df.trestbps.mean() #Hypothesized estimatehe = 135\n",
    "test_statistic = (be - he)/se\n",
    "test_statistic"
   ]
  },
  {
   "cell_type": "markdown",
   "id": "f8585015",
   "metadata": {},
   "source": [
    "Test statistic came out to be 240.54. \n",
    "\n",
    "Look at the formula for test statistics. On top, it measures the distance between the original mean and hypothesized mean. And the bottom is the standard error.\n",
    "\n",
    "So, this test_statistic means, the sample mean is 240.53 standard error above the hypothesized mean."
   ]
  },
  {
   "cell_type": "markdown",
   "id": "7611ffd4",
   "metadata": {},
   "source": [
    "#### Step 4\n",
    "Infer the conclusion from the test statistic\n",
    "Convert this test_statistic to a probability value to see if this difference is unusual or not. We can get the value using this python formula:\n"
   ]
  },
  {
   "cell_type": "code",
   "execution_count": 44,
   "id": "9fa6c25b",
   "metadata": {},
   "outputs": [
    {
     "data": {
      "text/plain": [
       "0.0"
      ]
     },
     "execution_count": 44,
     "metadata": {},
     "output_type": "execute_result"
    }
   ],
   "source": [
    "pvalue = 2*dist.norm.cdf(-np.abs(test_statistic))\n",
    "pvalue"
   ]
  },
  {
   "cell_type": "markdown",
   "id": "c9a6bc77",
   "metadata": {},
   "source": [
    "The p-value is 0.0 which is less than the significance level (0.05).\n",
    "#### So, we can reject the null hypothesis.\n",
    "\n",
    "There is only 0% probability that we will see the observed result is true when the null hypothesis is true. 0% probability is too low.\n",
    "\n",
    "So, we reject the null hypothesis and accept the alternative hypothesis based on this sample data."
   ]
  },
  {
   "cell_type": "markdown",
   "id": "5c872262",
   "metadata": {},
   "source": [
    "### Hypothesis Testing for the Difference in Mean\n",
    "For this example, we will use the same data, the trestbps column. But this time to test if there is any difference between the mean trestbps of females to the mean trestbps of males.\n",
    "#### Step 1\n",
    "State the hypothesis\n",
    "As a null hypothesis, start with the claim that the mean trestbps of females and the mean trestbps of males are the same. So the difference between these two means will be zero.\n",
    "The alternative hypothesis is, these two means are not the same. Let’s perform the test with a 10% significance level.\n",
    "\n",
    "Ho: mu_female - mu_male = 0\n",
    "\n",
    "Ha: mu_female - mu_male != 0\n",
    "\n",
    "Both the male and female populations have large enough data in this data. So, checking for the normality of the data is not required.\n",
    "\n",
    "#### Step 2 \n",
    "\n",
    "Calculate the test statistic\n",
    "\n",
    "The formula for the test statistic is the same as before. But the formula for the standard error is different.\n",
    "\n",
    "SE = sqrt((s1^2/n1)+(s2ˆ2/n2))\n",
    "\n",
    "Here s1 and s2 are the sample standard deviation of the female and male population respectively. n1 and n2 are the sample size of the female and male population. Now, calculate the standard error:\n"
   ]
  },
  {
   "cell_type": "code",
   "execution_count": 47,
   "id": "ec4305cd",
   "metadata": {},
   "outputs": [
    {
     "data": {
      "text/plain": [
       "1.268514364020195"
      ]
     },
     "execution_count": 47,
     "metadata": {},
     "output_type": "execute_result"
    }
   ],
   "source": [
    "pop_fe = df[df.Gender=='Female'].dropna()\n",
    "pop_male = df[df.Gender=='Male'].dropna()\n",
    "std_fe = pop_fe.trestbps.std()\n",
    "std_male = pop_male.trestbps.std()\n",
    "se = np.sqrt(std_fe**2/len(pop_fe) + std_male**2/len(pop_male))\n",
    "se"
   ]
  },
  {
   "cell_type": "markdown",
   "id": "b4272b0a",
   "metadata": {},
   "source": [
    "Use the standard error to get the test statistic.\n"
   ]
  },
  {
   "cell_type": "code",
   "execution_count": 52,
   "id": "9b47165b",
   "metadata": {},
   "outputs": [
    {
     "name": "stdout",
     "output_type": "stream",
     "text": [
      "3.0048683784658294\n"
     ]
    },
    {
     "data": {
      "text/plain": [
       "2.3688091074844078"
      ]
     },
     "execution_count": 52,
     "metadata": {},
     "output_type": "execute_result"
    }
   ],
   "source": [
    "#calculate the best estimate\n",
    "mu_fe = pop_fe.trestbps.mean()     #Mean trestbps for females\n",
    "mu_male = pop_male.trestbps.mean()  #Mean trestbps for males\n",
    "\n",
    "#mu_diff = mu_fe - mu_male    \n",
    "be = mu_fe - mu_male\n",
    "print(be)\n",
    "#hypothesized estimate \n",
    "mu_diff_hyp = 0   #null hypothesis: difference of two mean = \n",
    "he = mu_diff_hyp\n",
    "test_statistic = (be-he)/se\n",
    "test_statistic\n"
   ]
  },
  {
   "cell_type": "markdown",
   "id": "f0923222",
   "metadata": {},
   "source": [
    "The test_statistic is 2.368. For the information, the observed difference in mean ‘mu_diff’ is 3.004.\n",
    "As we are testing if the mean is different from each other, this is a two-tailed test.\n",
    "The p-value is the probability that the test statistic is either less than 2.368 or greater than 2.368.\n"
   ]
  },
  {
   "cell_type": "markdown",
   "id": "369ad398",
   "metadata": {},
   "source": [
    "#### Step 3: Infer the conclusions from the test statistic\n",
    "\n",
    "Calculate the p-value from this test statistic in python:"
   ]
  },
  {
   "cell_type": "code",
   "execution_count": 54,
   "id": "6fc1f731",
   "metadata": {},
   "outputs": [
    {
     "data": {
      "text/plain": [
       "0.01784546138523886"
      ]
     },
     "execution_count": 54,
     "metadata": {},
     "output_type": "execute_result"
    }
   ],
   "source": [
    "pvalue = 2*dist.norm.cdf(-np.abs(test_statistic))\n",
    "pvalue"
   ]
  },
  {
   "cell_type": "markdown",
   "id": "037d2c88",
   "metadata": {},
   "source": [
    "The p-values came out to be 0.017. As this is a two-tailed test,\n",
    "\n",
    "p(z < -2.36) = 0.017\n",
    "\n",
    "p(z > 2.36) = 0.017\n",
    "\n",
    "p-value = 0.017+0.017 = 0.034"
   ]
  },
  {
   "cell_type": "markdown",
   "id": "7346e4d6",
   "metadata": {},
   "source": [
    "That means, there is approximately 0.034% probability that the observed result or more extreme is true when the null hypothesis is true.\n",
    "\n",
    "In another way, the p-value is much lower than the significance level. So, we success to reject the null hypothesis.\n",
    "\n",
    "#### The final inference is, based on the observed difference between the mean trestbps of females and the mean trestbps of males, we support the idea that there is a significant difference between the two means."
   ]
  }
 ],
 "metadata": {
  "kernelspec": {
   "display_name": "Python 3",
   "language": "python",
   "name": "python3"
  },
  "language_info": {
   "codemirror_mode": {
    "name": "ipython",
    "version": 3
   },
   "file_extension": ".py",
   "mimetype": "text/x-python",
   "name": "python",
   "nbconvert_exporter": "python",
   "pygments_lexer": "ipython3",
   "version": "3.8.5"
  }
 },
 "nbformat": 4,
 "nbformat_minor": 5
}
