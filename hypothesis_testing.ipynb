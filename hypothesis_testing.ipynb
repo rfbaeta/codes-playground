{
 "cells": [
  {
   "cell_type": "markdown",
   "id": "d057eb59",
   "metadata": {},
   "source": [
    "## Hypothesis Testing\n",
    "\n",
    "Hypothesis testing is an important part of statistics and data analysis. Most of the time it is practically not possible to take data from a total population. In that case, we take a sample and make estimations or claims about the total population. These assumptions or claims are hypotheses. Hypothesis testing is the process to test if there is evidence to reject that hypothesis.\n",
    "\n",
    "https://towardsdatascience.com/a-complete-guide-to-hypothesis-testing-for-data-scientists-using-python-69f670e6779e"
   ]
  },
  {
   "cell_type": "code",
   "execution_count": 1,
   "id": "0bc5a89b",
   "metadata": {},
   "outputs": [],
   "source": [
    "import pandas as pd\n",
    "import numpy as np\n",
    "import statsmodels.api as sm\n",
    "import scipy.stats.distributions as dist"
   ]
  },
  {
   "cell_type": "code",
   "execution_count": 2,
   "id": "2d6d13e1",
   "metadata": {},
   "outputs": [
    {
     "data": {
      "text/html": [
       "<div>\n",
       "<style scoped>\n",
       "    .dataframe tbody tr th:only-of-type {\n",
       "        vertical-align: middle;\n",
       "    }\n",
       "\n",
       "    .dataframe tbody tr th {\n",
       "        vertical-align: top;\n",
       "    }\n",
       "\n",
       "    .dataframe thead th {\n",
       "        text-align: right;\n",
       "    }\n",
       "</style>\n",
       "<table border=\"1\" class=\"dataframe\">\n",
       "  <thead>\n",
       "    <tr style=\"text-align: right;\">\n",
       "      <th></th>\n",
       "      <th>age</th>\n",
       "      <th>sex</th>\n",
       "      <th>cp</th>\n",
       "      <th>trestbps</th>\n",
       "      <th>chol</th>\n",
       "      <th>fbs</th>\n",
       "      <th>restecg</th>\n",
       "      <th>thalach</th>\n",
       "      <th>exang</th>\n",
       "      <th>oldpeak</th>\n",
       "      <th>slope</th>\n",
       "      <th>ca</th>\n",
       "      <th>thal</th>\n",
       "      <th>target</th>\n",
       "    </tr>\n",
       "  </thead>\n",
       "  <tbody>\n",
       "    <tr>\n",
       "      <th>0</th>\n",
       "      <td>52</td>\n",
       "      <td>1</td>\n",
       "      <td>0</td>\n",
       "      <td>125</td>\n",
       "      <td>212</td>\n",
       "      <td>0</td>\n",
       "      <td>1</td>\n",
       "      <td>168</td>\n",
       "      <td>0</td>\n",
       "      <td>1.0</td>\n",
       "      <td>2</td>\n",
       "      <td>2</td>\n",
       "      <td>3</td>\n",
       "      <td>0</td>\n",
       "    </tr>\n",
       "    <tr>\n",
       "      <th>1</th>\n",
       "      <td>53</td>\n",
       "      <td>1</td>\n",
       "      <td>0</td>\n",
       "      <td>140</td>\n",
       "      <td>203</td>\n",
       "      <td>1</td>\n",
       "      <td>0</td>\n",
       "      <td>155</td>\n",
       "      <td>1</td>\n",
       "      <td>3.1</td>\n",
       "      <td>0</td>\n",
       "      <td>0</td>\n",
       "      <td>3</td>\n",
       "      <td>0</td>\n",
       "    </tr>\n",
       "    <tr>\n",
       "      <th>2</th>\n",
       "      <td>70</td>\n",
       "      <td>1</td>\n",
       "      <td>0</td>\n",
       "      <td>145</td>\n",
       "      <td>174</td>\n",
       "      <td>0</td>\n",
       "      <td>1</td>\n",
       "      <td>125</td>\n",
       "      <td>1</td>\n",
       "      <td>2.6</td>\n",
       "      <td>0</td>\n",
       "      <td>0</td>\n",
       "      <td>3</td>\n",
       "      <td>0</td>\n",
       "    </tr>\n",
       "    <tr>\n",
       "      <th>3</th>\n",
       "      <td>61</td>\n",
       "      <td>1</td>\n",
       "      <td>0</td>\n",
       "      <td>148</td>\n",
       "      <td>203</td>\n",
       "      <td>0</td>\n",
       "      <td>1</td>\n",
       "      <td>161</td>\n",
       "      <td>0</td>\n",
       "      <td>0.0</td>\n",
       "      <td>2</td>\n",
       "      <td>1</td>\n",
       "      <td>3</td>\n",
       "      <td>0</td>\n",
       "    </tr>\n",
       "    <tr>\n",
       "      <th>4</th>\n",
       "      <td>62</td>\n",
       "      <td>0</td>\n",
       "      <td>0</td>\n",
       "      <td>138</td>\n",
       "      <td>294</td>\n",
       "      <td>1</td>\n",
       "      <td>1</td>\n",
       "      <td>106</td>\n",
       "      <td>0</td>\n",
       "      <td>1.9</td>\n",
       "      <td>1</td>\n",
       "      <td>3</td>\n",
       "      <td>2</td>\n",
       "      <td>0</td>\n",
       "    </tr>\n",
       "  </tbody>\n",
       "</table>\n",
       "</div>"
      ],
      "text/plain": [
       "   age  sex  cp  trestbps  chol  fbs  restecg  thalach  exang  oldpeak  slope  \\\n",
       "0   52    1   0       125   212    0        1      168      0      1.0      2   \n",
       "1   53    1   0       140   203    1        0      155      1      3.1      0   \n",
       "2   70    1   0       145   174    0        1      125      1      2.6      0   \n",
       "3   61    1   0       148   203    0        1      161      0      0.0      2   \n",
       "4   62    0   0       138   294    1        1      106      0      1.9      1   \n",
       "\n",
       "   ca  thal  target  \n",
       "0   2     3       0  \n",
       "1   0     3       0  \n",
       "2   0     3       0  \n",
       "3   1     3       0  \n",
       "4   3     2       0  "
      ]
     },
     "execution_count": 2,
     "metadata": {},
     "output_type": "execute_result"
    }
   ],
   "source": [
    "df = pd.read_csv('./data/heart2.csv')\n",
    "df.head()"
   ]
  },
  {
   "cell_type": "markdown",
   "id": "6bbbfa72",
   "metadata": {},
   "source": [
    "The last column of the dataset is ‘AHD’. That is if the person has heart disease. The research question for this section is,\n",
    "\n",
    "#### “The population proportion of Ireland having heart disease is 42%. Are more people suffering from heart disease in the US”?"
   ]
  },
  {
   "cell_type": "markdown",
   "id": "5e1bfbbb",
   "metadata": {},
   "source": [
    "#### Step 1 \n",
    "Define the null hypothesis and alternative hypothesis.\n",
    "In this problem, the null hypothesis is the population proportion having heart disease in the US is less than or equal to 42%. But if we test for equal to less than will be covered automatically. So, I am making it only equal to.\n",
    "And the alternative hypothesis is the population proportion of the US having heart disease is more than 42%."
   ]
  },
  {
   "cell_type": "code",
   "execution_count": 5,
   "id": "07a05fab",
   "metadata": {},
   "outputs": [],
   "source": [
    "#Ho: p0 = 0.42  #null hypothesis Ho\n",
    "#Ha: p > 0.42  #alternative hypothesis Ha"
   ]
  },
  {
   "cell_type": "markdown",
   "id": "15f1681a",
   "metadata": {},
   "source": [
    "#### Step 2\n",
    "Assume that the dataset above is a representative sample from the population of the US. So, calculate the population proportion of the US having heart disease."
   ]
  },
  {
   "cell_type": "code",
   "execution_count": 6,
   "id": "0b10f061",
   "metadata": {},
   "outputs": [
    {
     "data": {
      "text/plain": [
       "0.5131707317073171"
      ]
     },
     "execution_count": 6,
     "metadata": {},
     "output_type": "execute_result"
    }
   ],
   "source": [
    "p_us = len(df[df['target']==1])/len(df)\n",
    "p_us"
   ]
  },
  {
   "cell_type": "markdown",
   "id": "614aa70f",
   "metadata": {},
   "source": [
    "The population proportion of the sample having heart disease is 0.46 or 46%. This percentage is more than the null hypothesis. That is 42%.\n",
    "But the question is if it is significantly more than 42%. If we take a different simple random sample, the currently observed population proportion (46%) can be different.\n",
    "To find out if the observed population proportion is significantly more than the null hypothesis, perform a hypothesis test."
   ]
  },
  {
   "cell_type": "markdown",
   "id": "15f2cee5",
   "metadata": {},
   "source": [
    "#### Step 3\n",
    "Calculate the Test Statistic:\n"
   ]
  },
  {
   "cell_type": "markdown",
   "id": "af283c94",
   "metadata": {},
   "source": [
    "test_statistics = (Best_Estimate - Hypothesized_Estimate)/Standard_error_of_estimate"
   ]
  },
  {
   "cell_type": "markdown",
   "id": "82fbfaa1",
   "metadata": {},
   "source": [
    "SE = sqrt((p0*(1-p0))/n)"
   ]
  },
  {
   "cell_type": "markdown",
   "id": "4ef9e24e",
   "metadata": {},
   "source": [
    "In this formula, p0 is 0.42 (according to the null hypothesis) and n is the size of the sample population. "
   ]
  },
  {
   "cell_type": "code",
   "execution_count": 18,
   "id": "9c6a19d1",
   "metadata": {},
   "outputs": [],
   "source": [
    "se = np.sqrt(0.49 * (1-0.49) / len(df))"
   ]
  },
  {
   "cell_type": "code",
   "execution_count": 19,
   "id": "8a347bc3",
   "metadata": {},
   "outputs": [
    {
     "data": {
      "text/plain": [
       "1.483947557138075"
      ]
     },
     "execution_count": 19,
     "metadata": {},
     "output_type": "execute_result"
    }
   ],
   "source": [
    "#Best estimate\n",
    "be = p_us  #hypothesized estimate\n",
    "he = 0.49\n",
    "test_stat = (be - he)/se\n",
    "test_stat"
   ]
  },
  {
   "cell_type": "markdown",
   "id": "5f99b06d",
   "metadata": {},
   "source": [
    "#### Step 4\n",
    "    \n",
    "Calculate the p-value\n"
   ]
  },
  {
   "cell_type": "markdown",
   "id": "026df8bc",
   "metadata": {},
   "source": [
    "This test statistic is also called z-score. You can find the p-value from a z_table or you can find the p-value from this formula in python."
   ]
  },
  {
   "cell_type": "code",
   "execution_count": 20,
   "id": "dd320496",
   "metadata": {},
   "outputs": [
    {
     "data": {
      "text/plain": [
       "0.13782283387121433"
      ]
     },
     "execution_count": 20,
     "metadata": {},
     "output_type": "execute_result"
    }
   ],
   "source": [
    "pvalue = 2*dist.norm.cdf(-np.abs(test_stat))\n",
    "pvalue"
   ]
  },
  {
   "cell_type": "markdown",
   "id": "42cfa387",
   "metadata": {},
   "source": [
    "#### Step 5 \n",
    "Infer the conclusion from the p-value\n"
   ]
  },
  {
   "cell_type": "markdown",
   "id": "8737f7bd",
   "metadata": {},
   "source": [
    "Consider the significance level alpha to be 5% or 0.05. A significance level of 5% or less means that there is a probability of 95% or greater that the results are not random.\n",
    "Here p-value is bigger than our considered significance level of 0.05. So, we cannot reject the null hypothesis. That means there is no significant difference in population proportion having heart disease in Ireland and the US."
   ]
  },
  {
   "cell_type": "markdown",
   "id": "0ec6c3bd",
   "metadata": {},
   "source": [
    "### Hypothesis Tests for the Difference in Two Proportions"
   ]
  },
  {
   "cell_type": "code",
   "execution_count": null,
   "id": "c2a2aeae",
   "metadata": {},
   "outputs": [],
   "source": []
  }
 ],
 "metadata": {
  "kernelspec": {
   "display_name": "Python 3",
   "language": "python",
   "name": "python3"
  },
  "language_info": {
   "codemirror_mode": {
    "name": "ipython",
    "version": 3
   },
   "file_extension": ".py",
   "mimetype": "text/x-python",
   "name": "python",
   "nbconvert_exporter": "python",
   "pygments_lexer": "ipython3",
   "version": "3.8.5"
  }
 },
 "nbformat": 4,
 "nbformat_minor": 5
}
