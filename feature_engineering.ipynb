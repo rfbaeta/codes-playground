{
 "cells": [
  {
   "cell_type": "code",
   "execution_count": null,
   "id": "2c9fdbfb-af8b-4eb2-9140-3c2837c300b4",
   "metadata": {},
   "outputs": [],
   "source": [
    "#https://towardsdatascience.com/feature-engineering-for-machine-learning-3a5e293a5114"
   ]
  },
  {
   "cell_type": "code",
   "execution_count": 1,
   "id": "405a3126-b295-412e-b5e4-8fad5ca9f42a",
   "metadata": {},
   "outputs": [],
   "source": [
    "import pandas as pd\n",
    "import numpy as np"
   ]
  },
  {
   "cell_type": "markdown",
   "id": "df90ed1a-ee5b-499a-8f25-540604d7f1e2",
   "metadata": {},
   "source": [
    "List of Techniques\n",
    "\n",
    "1 - Imputation\\\n",
    "2 - Handling Outliers\\\n",
    "3 - Binning\\\n",
    "4 - Log Transform\\\n",
    "5 - One-Hot Encoding\\\n",
    "6 - Grouping Operations\\\n",
    "7 - Feature Split\\\n",
    "8 - Scaling\\\n",
    "9 - Extracting Date"
   ]
  },
  {
   "cell_type": "markdown",
   "id": "01d49d6f-2f7c-42d8-9ba9-e1d971ce9327",
   "metadata": {},
   "source": [
    "### Imputation\n",
    "\n",
    "Missing values are one of the most common problems you can encounter when you try to prepare your data for machine learning. The reason for the missing values might be human errors, interruptions in the data flow, privacy concerns, and so on. Whatever is the reason, missing values affect the performance of the machine learning models.\n",
    "\n",
    "The most simple solution to the missing values is to drop the rows or the entire column. There is not an optimum threshold for dropping but you can use 70% as an example value and try to drop the rows and columns which have missing values with higher than this threshold."
   ]
  },
  {
   "cell_type": "code",
   "execution_count": null,
   "id": "6f50794e-1b9a-4748-9916-c0ebde6ea18a",
   "metadata": {},
   "outputs": [],
   "source": [
    "threshold = 0.7\n",
    "#Dropping columns with missing value rate higher than threshold\n",
    "data = data[data.columns[data.isnull().mean() < threshold]]\n",
    "\n",
    "#Dropping rows with missing value rate higher than threshold\n",
    "data = data.loc[data.isnull().mean(axis=1) < threshold]"
   ]
  },
  {
   "cell_type": "markdown",
   "id": "56065579-7a79-4aa2-9048-4a22c21e282a",
   "metadata": {},
   "source": [
    "### Numerical Imputation\n",
    "\n",
    "Imputation is a more preferable option rather than dropping because it preserves the data size. However, there is an important selection of what you impute to the missing values. I suggest beginning with considering a possible default value of missing values in the column. For example, if you have a column that only has 1 and NA, then it is likely that the NA rows correspond to 0. For another example, if you have a column that shows the “customer visit count in last month”, the missing values might be replaced with 0 as long as you think it is a sensible solution.\n",
    "\n",
    "Another reason for the missing values is joining tables with different sizes and in this case, imputing 0 might be reasonable as well. Except for the case of having a default value for missing values, I think the best imputation way is to use the medians of the columns. As the averages of the columns are sensitive to the outlier values, while medians are more solid in this respect."
   ]
  },
  {
   "cell_type": "code",
   "execution_count": null,
   "id": "a90bc236-ad7a-433c-a364-13214b719f06",
   "metadata": {},
   "outputs": [],
   "source": [
    "#Filling all missing values with 0\n",
    "data = data.fillna(0)\n",
    "#Filling missing values with medians of the columns\n",
    "data = data.fillna(data.median())"
   ]
  },
  {
   "cell_type": "markdown",
   "id": "3dd92b85-afc9-496f-b523-73d7ef21ff61",
   "metadata": {},
   "source": [
    "### Categorical Imputation\n",
    "\n",
    "Replacing the missing values with the maximum occurred value in a column is a good option for handling categorical columns. But if you think the values in the column are distributed uniformly and there is not a dominant value, imputing a category like “Other” might be more sensible, because in such a case, your imputation is likely to converge a random selection.\n"
   ]
  },
  {
   "cell_type": "code",
   "execution_count": null,
   "id": "6626fe10-7f8e-4ebd-afb3-efdad39ff6c6",
   "metadata": {},
   "outputs": [],
   "source": [
    "#Max fill function for categorical columns\n",
    "data['column_name'].fillna(data['column_name'].value_counts()\n",
    ".idxmax(), inplace=True)"
   ]
  },
  {
   "cell_type": "markdown",
   "id": "17b0e8a6-66dc-48fe-bae9-57e3f19de310",
   "metadata": {},
   "source": [
    "### Handling Outliers\n",
    "\n",
    "Before mentioning how outliers can be handled, I want to state that the best way to detect the outliers is to demonstrate the data visually. All other statistical methodologies are open to making mistakes, whereas visualizing the outliers gives a chance to take a decision with high precision. Anyway, I am planning to focus visualization deeply in another article and let’s continue with statistical methodologies.\n",
    "Statistical methodologies are less precise as I mentioned, but on the other hand, they have a superiority, they are fast. Here I will list two different ways of handling outliers. These will detect them using standard deviation, and percentiles.\n",
    "Outlier Detection with Standard Deviation\n",
    "If a value has a distance to the average higher than x * standard deviation, it can be assumed as an outlier. Then what x should be?\n",
    "There is no trivial solution for x, but usually, a value between 2 and 4 seems practical."
   ]
  },
  {
   "cell_type": "code",
   "execution_count": null,
   "id": "91e5f7cd-45b8-4bbf-9cfa-70761a5cb0d6",
   "metadata": {},
   "outputs": [],
   "source": [
    "#Dropping the outlier rows with standard deviation\n",
    "factor = 3\n",
    "upper_lim = data['column'].mean () + data['column'].std () * factor\n",
    "lower_lim = data['column'].mean () - data['column'].std () * factor\n",
    "\n",
    "data = data[(data['column'] < upper_lim) & (data['column'] > lower_lim)]"
   ]
  },
  {
   "cell_type": "markdown",
   "id": "88052e60-eb9a-4dff-ae35-477e2abb27d2",
   "metadata": {},
   "source": [
    "### Outlier Detection with Percentiles\n",
    "Another mathematical method to detect outliers is to use percentiles. You can assume a certain percent of the value from the top or the bottom as an outlier. The key point is here to set the percentage value once again, and this depends on the distribution of your data as mentioned earlier.\n",
    "Additionally, a common mistake is using the percentiles according to the range of the data. In other words, if your data ranges from 0 to 100, your top 5% is not the values between 96 and 100. Top 5% means here the values that are out of the 95th percentile of data.\n"
   ]
  },
  {
   "cell_type": "code",
   "execution_count": null,
   "id": "7aa1c432-ff9a-47cb-bb4f-77b64a63cfae",
   "metadata": {},
   "outputs": [],
   "source": [
    "#Dropping the outlier rows with Percentiles\n",
    "upper_lim = data['column'].quantile(.95)\n",
    "lower_lim = data['column'].quantile(.05)\n",
    "\n",
    "data = data[(data['column'] < upper_lim) & (data['column'] > lower_lim)]"
   ]
  },
  {
   "cell_type": "markdown",
   "id": "6b90644a-8ee2-49c9-8ab6-2d383666d79b",
   "metadata": {},
   "source": [
    "### Binning\n",
    "\n",
    "Binning can be applied on both categorical and numerical data:\n",
    "#### Numerical Binning Example\n",
    "Value      Bin       \n",
    "0-30   ->  Low       \n",
    "31-70  ->  Mid       \n",
    "71-100 ->  High\n",
    "\n",
    "#### Categorical Binning Example\n",
    "Value      Bin       \n",
    "Spain  ->  Europe      \n",
    "Italy  ->  Europe       \n",
    "Chile  ->  South America\n",
    "Brazil ->  South America\n",
    "\n",
    "The main motivation of binning is to make the model more robust and prevent overfitting, however, it has a cost to the performance. Every time you bin something, you sacrifice information and make your data more regularized.\n",
    "\n",
    "The trade-off between performance and overfitting is the key point of the binning process. In my opinion, for numerical columns, except for some obvious overfitting cases, binning might be redundant for some kind of algorithms, due to its effect on model performance.\n",
    "However, for categorical columns, the labels with low frequencies probably affect the robustness of statistical models negatively. Thus, assigning a general category to these less frequent values helps to keep the robustness of the model. For example, if your data size is 100,000 rows, it might be a good option to unite the labels with a count less than 100 to a new category like “Other”."
   ]
  },
  {
   "cell_type": "markdown",
   "id": "97f4568f-62ce-43fc-8be3-652dc07f4b6c",
   "metadata": {},
   "source": [
    "### Log Transform\n",
    "Logarithm transformation (or log transform) is one of the most commonly used mathematical transformations in feature engineering. What are the benefits of log transform:\n",
    "It helps to handle skewed data and after transformation, the distribution becomes more approximate to normal.\n",
    "In most of the cases the magnitude order of the data changes within the range of the data. For instance, the difference between ages 15 and 20 is not equal to the ages 65 and 70. In terms of years, yes, they are identical, but for all other aspects, 5 years of difference in young ages mean a higher magnitude difference. This type of data comes from a multiplicative process and log transform normalizes the magnitude differences like that.\n",
    "It also decreases the effect of the outliers, due to the normalization of magnitude differences and the model become more robust.\n",
    "A critical note: The data you apply log transform must have only positive values, otherwise you receive an error. Also, you can add 1 to your data before transform it. Thus, you ensure the output of the transformation to be positive."
   ]
  },
  {
   "cell_type": "code",
   "execution_count": 4,
   "id": "9a2f82c1-b7a1-408e-bc49-272e86db1f00",
   "metadata": {},
   "outputs": [
    {
     "name": "stdout",
     "output_type": "stream",
     "text": [
      "   value     log+1       log\n",
      "0      2  1.098612  3.258097\n",
      "1     45  3.828641  4.234107\n",
      "2    -23       NaN  0.000000\n",
      "3     85  4.454347  4.691348\n",
      "4     28  3.367296  3.951244\n",
      "5      2  1.098612  3.258097\n",
      "6     35  3.583519  4.077537\n",
      "7    -12       NaN  2.484907\n"
     ]
    }
   ],
   "source": [
    "#Log Transform Example\n",
    "data = pd.DataFrame({'value':[2,45, -23, 85, 28, 2, 35, -12]})\n",
    "data['log+1'] = (data['value']+1).transform(np.log)\n",
    "#Negative Values Handling\n",
    "#Note that the values are different\n",
    "data['log'] = (data['value']-data['value'].min()+1) .transform(np.log)\n",
    "print(data)"
   ]
  },
  {
   "cell_type": "markdown",
   "id": "4f1c31ec-fb7c-40f3-b958-7e049fac961d",
   "metadata": {},
   "source": [
    "### One-hot encoding\n",
    "One-hot encoding is one of the most common encoding methods in machine learning. This method spreads the values in a column to multiple flag columns and assigns 0 or 1 to them. These binary values express the relationship between grouped and encoded column.\n",
    "This method changes your categorical data, which is challenging to understand for algorithms, to a numerical format and enables you to group your categorical data without losing any information. (For details please see the last part of Categorical Column Grouping)"
   ]
  },
  {
   "cell_type": "code",
   "execution_count": null,
   "id": "eb1baaf2-bc2a-45b5-ac2a-12df74c10129",
   "metadata": {},
   "outputs": [],
   "source": [
    "encoded_columns = pd.get_dummies(data['column'])\n",
    "data = data.join(encoded_columns).drop('column', axis=1)"
   ]
  },
  {
   "cell_type": "markdown",
   "id": "99e4147a-cfd1-4d99-868a-050e586ad04b",
   "metadata": {},
   "source": [
    "### Grouping Operations\n",
    "In most machine learning algorithms, every instance is represented by a row in the training dataset, where every column show a different feature of the instance. This kind of data called “Tidy”.\n",
    "Tidy datasets are easy to manipulate, model and visualise, and have a specific structure: each variable is a column, each observation is a row, and each type of observational unit is a table.\n",
    "— Hadley Wickham\n",
    "Datasets such as transactions rarely fit the definition of tidy data above, because of the multiple rows of an instance. In such a case, we group the data by the instances and then every instance is represented by only one row.\n",
    "The key point of group by operations is to decide the aggregation functions of the features. For numerical features, average and sum functions are usually convenient options, whereas for categorical features it more complicated."
   ]
  },
  {
   "cell_type": "markdown",
   "id": "02282382-06fa-497b-a06d-40e771ab7f8b",
   "metadata": {},
   "source": [
    "### Feature Split\n",
    "\n",
    "Splitting features is a good way to make them useful in terms of machine learning. Most of the time the dataset contains string columns that violates tidy data principles. By extracting the utilizable parts of a column into new features:\n",
    "We enable machine learning algorithms to comprehend them.\n",
    "Make possible to bin and group them.\n",
    "Improve model performance by uncovering potential information.\n",
    "Split function is a good option, however, there is no one way of splitting features. It depends on the characteristics of the column, how to split it. Let’s introduce it with two examples. First, a simple split function for an ordinary name column:\n",
    "\n",
    "data.name\\\n",
    "0  Luther N. Gonzalez\\\n",
    "1    Charles M. Young\\\n",
    "2        Terry Lawson\\\n",
    "3       Kristen White\\\n",
    "4      Thomas Logsdon\\\n",
    "##### Extracting first names\n",
    "data.name.str.split(\" \").map(lambda x: x[0])\\\n",
    "0     Luther\\\n",
    "1    Charles\\\n",
    "2      Terry\\\n",
    "3    Kristen\\\n",
    "4     Thomas\\\n",
    "##### Extracting last names\n",
    "data.name.str.split(\" \").map(lambda x: x[-1])\\\n",
    "0    Gonzalez\\\n",
    "1       Young\\\n",
    "2      Lawson\\\n",
    "3       White\\\n",
    "4     Logsdon\n"
   ]
  },
  {
   "cell_type": "markdown",
   "id": "997bc3c2-5bcc-4ee6-a1da-8b427ee4619c",
   "metadata": {},
   "source": [
    "### Scaling\n",
    "In most cases, the numerical features of the dataset do not have a certain range and they differ from each other. In real life, it is nonsense to expect age and income columns to have the same range. But from the machine learning point of view, how these two columns can be compared?\n",
    "Scaling solves this problem. The continuous features become identical in terms of the range, after a scaling process. This process is not mandatory for many algorithms, but it might be still nice to apply. However, the algorithms based on distance calculations such as k-NN or k-Means need to have scaled continuous features as model input.\n",
    "Basically, there are two common ways of scaling:"
   ]
  },
  {
   "cell_type": "markdown",
   "id": "776855c2-497b-4224-b468-5ccfac92709e",
   "metadata": {},
   "source": [
    "#### Normalization\n",
    "\n",
    "$X_{norm} = \\frac{X-X_{min}}{X_{max}-X_{min}}$ \n",
    "\n",
    "Normalization (or min-max normalization) scale all values in a fixed range between 0 and 1. This transformation does not change the distribution of the feature and due to the decreased standard deviations, the effects of the outliers increases. Therefore, before normalization, it is recommended to handle the outliers.\n",
    "\n"
   ]
  },
  {
   "cell_type": "code",
   "execution_count": 5,
   "id": "137ab635-06a7-486c-a5f6-d1c449168570",
   "metadata": {},
   "outputs": [
    {
     "name": "stdout",
     "output_type": "stream",
     "text": [
      "   value  normalized\n",
      "0      2    0.231481\n",
      "1     45    0.629630\n",
      "2    -23    0.000000\n",
      "3     85    1.000000\n",
      "4     28    0.472222\n",
      "5      2    0.231481\n",
      "6     35    0.537037\n",
      "7    -12    0.101852\n"
     ]
    }
   ],
   "source": [
    "data = pd.DataFrame({'value':[2,45, -23, 85, 28, 2, 35, -12]})\n",
    "\n",
    "data['normalized'] = (data['value'] - data['value'].min()) / (data['value'].max() - data['value'].min())\n",
    "print(data)"
   ]
  },
  {
   "cell_type": "markdown",
   "id": "25803f36-6c23-45bb-a0dd-59f353e4f292",
   "metadata": {},
   "source": [
    "#### Standardization\n",
    "\n",
    "Standardization (or z-score normalization) scales the values while taking into account standard deviation. If the standard deviation of features is different, their range also would differ from each other. This reduces the effect of the outliers in the features.\n",
    "In the following formula of standardization, the mean is shown as μ and the standard deviation is shown as σ.\n",
    "\n",
    "$z=\\frac{x-\\mu}{\\sigma}$"
   ]
  },
  {
   "cell_type": "code",
   "execution_count": 6,
   "id": "231631da-259a-4368-a578-d94cb72e7418",
   "metadata": {},
   "outputs": [
    {
     "name": "stdout",
     "output_type": "stream",
     "text": [
      "   value  standardized\n",
      "0      2     -0.518878\n",
      "1     45      0.703684\n",
      "2    -23     -1.229670\n",
      "3     85      1.840952\n",
      "4     28      0.220346\n",
      "5      2     -0.518878\n",
      "6     35      0.419367\n",
      "7    -12     -0.916922\n"
     ]
    }
   ],
   "source": [
    "data = pd.DataFrame({'value':[2,45, -23, 85, 28, 2, 35, -12]})\n",
    "\n",
    "data['standardized'] = (data['value'] - data['value'].mean()) / data['value'].std()\n",
    "print(data)"
   ]
  },
  {
   "cell_type": "markdown",
   "id": "b84943ad-1c2b-4595-8858-aec24ea70918",
   "metadata": {},
   "source": [
    "### Extracting Date\n",
    "Though date columns usually provide valuable information about the model target, they are neglected as an input or used nonsensically for the machine learning algorithms. It might be the reason for this, that dates can be present in numerous formats, which make it hard to understand by algorithms, even they are simplified to a format like \"01–01–2017\".\n",
    "Building an ordinal relationship between the values is very challenging for a machine learning algorithm if you leave the date columns without manipulation. Here, I suggest three types of preprocessing for dates:\n",
    "- Extracting the parts of the date into different columns: Year, month, day, etc.\n",
    "- Extracting the time period between the current date and columns in terms of years, months, days, etc.\n",
    "- Extracting some specific features from the date: Name of the weekday, Weekend or not, holiday or not, etc.\n",
    "\n",
    "If you transform the date column into the extracted columns like above, the information of them become disclosed and machine learning algorithms can easily understand them."
   ]
  },
  {
   "cell_type": "code",
   "execution_count": 7,
   "id": "b943e60e-726a-42b5-bd24-867a40407fdc",
   "metadata": {},
   "outputs": [
    {
     "name": "stdout",
     "output_type": "stream",
     "text": [
      "        date  year  month  passed_years  passed_months   day_name\n",
      "0 2017-01-01  2017      1             4             59     Sunday\n",
      "1 2008-12-04  2008     12            13            156   Thursday\n",
      "2 1988-06-23  1988      6            33            402   Thursday\n",
      "3 1999-08-25  1999      8            22            268  Wednesday\n",
      "4 1993-02-20  1993      2            28            346   Saturday\n"
     ]
    }
   ],
   "source": [
    "from datetime import date\n",
    "\n",
    "data = pd.DataFrame({'date':\n",
    "['01-01-2017',\n",
    "'04-12-2008',\n",
    "'23-06-1988',\n",
    "'25-08-1999',\n",
    "'20-02-1993',\n",
    "]})\n",
    "\n",
    "#Transform string to date\n",
    "data['date'] = pd.to_datetime(data.date, format=\"%d-%m-%Y\")\n",
    "\n",
    "#Extracting Year\n",
    "data['year'] = data['date'].dt.year\n",
    "\n",
    "#Extracting Month\n",
    "data['month'] = data['date'].dt.month\n",
    "\n",
    "#Extracting passed years since the date\n",
    "data['passed_years'] = date.today().year - data['date'].dt.year\n",
    "\n",
    "#Extracting passed months since the date\n",
    "data['passed_months'] = (date.today().year - data['date'].dt.year) * 12 + date.today().month - data['date'].dt.month\n",
    "\n",
    "#Extracting the weekday name of the date\n",
    "data['day_name'] = data['date'].dt.day_name()\n",
    "print(data)"
   ]
  },
  {
   "cell_type": "code",
   "execution_count": null,
   "id": "2f763826-dd6a-46aa-882b-04aad811dc6c",
   "metadata": {},
   "outputs": [],
   "source": []
  }
 ],
 "metadata": {
  "kernelspec": {
   "display_name": "Python 3",
   "language": "python",
   "name": "python3"
  },
  "language_info": {
   "codemirror_mode": {
    "name": "ipython",
    "version": 3
   },
   "file_extension": ".py",
   "mimetype": "text/x-python",
   "name": "python",
   "nbconvert_exporter": "python",
   "pygments_lexer": "ipython3",
   "version": "3.8.5"
  }
 },
 "nbformat": 4,
 "nbformat_minor": 5
}
