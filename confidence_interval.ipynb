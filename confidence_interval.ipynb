{
 "cells": [
  {
   "cell_type": "markdown",
   "id": "f48a2c8b",
   "metadata": {},
   "source": [
    "# Confidence Interval\n",
    "\n",
    "https://towardsdatascience.com/a-complete-guide-to-confidence-interval-and-examples-in-python-ff417c5cb593\n",
    "\n",
    "As it sounds, the confidence interval is a range of values. In the ideal condition, it should contain the best estimate of a statistical parameter. It is expressed as a percentage. 95% confidence interval is the most common. You can use other values like 97%, 90%, 75%, or even 99% confidence interval if your research demands. Let’s understand it by an example: \n",
    "\n",
    "“In a sample of 659 parents with toddlers, about 85%, stated they use a car seat for all travel with their toddler. From these results, a 95% confidence interval was provided, going from about 82.3% up to 87.7%.”\n",
    "\n",
    "This statement means, we are 95% certain that the population proportion who use a car seat for all travel with their toddler will fall between 82.3% and 87.7%. If we take a different sample or a subsample of these 659 people, 95% of the time, the percentage of the population who use a car seat in all travel with their toddlers will be in between 82.3% and 87.7%\n",
    "\n",
    "#### Remember, 95% confidence interval does not mean 95% probability\n",
    "\n",
    "The reason confidence interval is so popular and useful is, we cannot take data from all populations. Like the example above, we could not get the information from all the parents with toddlers. We had to calculate the result from 659 parents. From that result, we tried to get an estimate of the overall population. So, it is reasonable to consider a margin of error and take a range. That’s why we take a confidence interval which is a range.\n",
    "\n",
    "Confidence 95% - 1.96 (Z)\n",
    "\n",
    "Standard Error for population = sqrt(population_proportion * (1-population_proportion/number_of_observations))\n",
    "\n",
    "Standard Error for mean = standard_deviation / sqrt(number_of_observation)\n",
    "\n",
    "As per the statement, the population proportion that uses a car seat for all travel with their toddlers is 85%. So, this is our best estimate. We need to add the margin of error to it. To calculate the margin of error we need the z-score and the standard error. I am going to calculate a 95% CI. The z-score should be 1.96 and I already mentioned the formula of standard error for the population proportion. Plugging in all the values:\n",
    "\n",
    "0.85 +/- 1.96 * ((1-0.85)/659)\n",
    "\n",
    "The confidence interval is 82.3% and 87.7%"
   ]
  },
  {
   "cell_type": "code",
   "execution_count": 48,
   "id": "8c1c12e0",
   "metadata": {},
   "outputs": [
    {
     "data": {
      "text/html": [
       "<div>\n",
       "<style scoped>\n",
       "    .dataframe tbody tr th:only-of-type {\n",
       "        vertical-align: middle;\n",
       "    }\n",
       "\n",
       "    .dataframe tbody tr th {\n",
       "        vertical-align: top;\n",
       "    }\n",
       "\n",
       "    .dataframe thead th {\n",
       "        text-align: right;\n",
       "    }\n",
       "</style>\n",
       "<table border=\"1\" class=\"dataframe\">\n",
       "  <thead>\n",
       "    <tr style=\"text-align: right;\">\n",
       "      <th></th>\n",
       "      <th>age</th>\n",
       "      <th>sex</th>\n",
       "      <th>cp</th>\n",
       "      <th>trestbps</th>\n",
       "      <th>chol</th>\n",
       "      <th>fbs</th>\n",
       "      <th>restecg</th>\n",
       "      <th>thalach</th>\n",
       "      <th>exang</th>\n",
       "      <th>oldpeak</th>\n",
       "      <th>slope</th>\n",
       "      <th>ca</th>\n",
       "      <th>thal</th>\n",
       "      <th>target</th>\n",
       "    </tr>\n",
       "  </thead>\n",
       "  <tbody>\n",
       "    <tr>\n",
       "      <th>0</th>\n",
       "      <td>52</td>\n",
       "      <td>1</td>\n",
       "      <td>0</td>\n",
       "      <td>125</td>\n",
       "      <td>212</td>\n",
       "      <td>0</td>\n",
       "      <td>1</td>\n",
       "      <td>168</td>\n",
       "      <td>0</td>\n",
       "      <td>1.0</td>\n",
       "      <td>2</td>\n",
       "      <td>2</td>\n",
       "      <td>3</td>\n",
       "      <td>0</td>\n",
       "    </tr>\n",
       "    <tr>\n",
       "      <th>1</th>\n",
       "      <td>53</td>\n",
       "      <td>1</td>\n",
       "      <td>0</td>\n",
       "      <td>140</td>\n",
       "      <td>203</td>\n",
       "      <td>1</td>\n",
       "      <td>0</td>\n",
       "      <td>155</td>\n",
       "      <td>1</td>\n",
       "      <td>3.1</td>\n",
       "      <td>0</td>\n",
       "      <td>0</td>\n",
       "      <td>3</td>\n",
       "      <td>0</td>\n",
       "    </tr>\n",
       "    <tr>\n",
       "      <th>2</th>\n",
       "      <td>70</td>\n",
       "      <td>1</td>\n",
       "      <td>0</td>\n",
       "      <td>145</td>\n",
       "      <td>174</td>\n",
       "      <td>0</td>\n",
       "      <td>1</td>\n",
       "      <td>125</td>\n",
       "      <td>1</td>\n",
       "      <td>2.6</td>\n",
       "      <td>0</td>\n",
       "      <td>0</td>\n",
       "      <td>3</td>\n",
       "      <td>0</td>\n",
       "    </tr>\n",
       "    <tr>\n",
       "      <th>3</th>\n",
       "      <td>61</td>\n",
       "      <td>1</td>\n",
       "      <td>0</td>\n",
       "      <td>148</td>\n",
       "      <td>203</td>\n",
       "      <td>0</td>\n",
       "      <td>1</td>\n",
       "      <td>161</td>\n",
       "      <td>0</td>\n",
       "      <td>0.0</td>\n",
       "      <td>2</td>\n",
       "      <td>1</td>\n",
       "      <td>3</td>\n",
       "      <td>0</td>\n",
       "    </tr>\n",
       "    <tr>\n",
       "      <th>4</th>\n",
       "      <td>62</td>\n",
       "      <td>0</td>\n",
       "      <td>0</td>\n",
       "      <td>138</td>\n",
       "      <td>294</td>\n",
       "      <td>1</td>\n",
       "      <td>1</td>\n",
       "      <td>106</td>\n",
       "      <td>0</td>\n",
       "      <td>1.9</td>\n",
       "      <td>1</td>\n",
       "      <td>3</td>\n",
       "      <td>2</td>\n",
       "      <td>0</td>\n",
       "    </tr>\n",
       "    <tr>\n",
       "      <th>...</th>\n",
       "      <td>...</td>\n",
       "      <td>...</td>\n",
       "      <td>...</td>\n",
       "      <td>...</td>\n",
       "      <td>...</td>\n",
       "      <td>...</td>\n",
       "      <td>...</td>\n",
       "      <td>...</td>\n",
       "      <td>...</td>\n",
       "      <td>...</td>\n",
       "      <td>...</td>\n",
       "      <td>...</td>\n",
       "      <td>...</td>\n",
       "      <td>...</td>\n",
       "    </tr>\n",
       "    <tr>\n",
       "      <th>1020</th>\n",
       "      <td>59</td>\n",
       "      <td>1</td>\n",
       "      <td>1</td>\n",
       "      <td>140</td>\n",
       "      <td>221</td>\n",
       "      <td>0</td>\n",
       "      <td>1</td>\n",
       "      <td>164</td>\n",
       "      <td>1</td>\n",
       "      <td>0.0</td>\n",
       "      <td>2</td>\n",
       "      <td>0</td>\n",
       "      <td>2</td>\n",
       "      <td>1</td>\n",
       "    </tr>\n",
       "    <tr>\n",
       "      <th>1021</th>\n",
       "      <td>60</td>\n",
       "      <td>1</td>\n",
       "      <td>0</td>\n",
       "      <td>125</td>\n",
       "      <td>258</td>\n",
       "      <td>0</td>\n",
       "      <td>0</td>\n",
       "      <td>141</td>\n",
       "      <td>1</td>\n",
       "      <td>2.8</td>\n",
       "      <td>1</td>\n",
       "      <td>1</td>\n",
       "      <td>3</td>\n",
       "      <td>0</td>\n",
       "    </tr>\n",
       "    <tr>\n",
       "      <th>1022</th>\n",
       "      <td>47</td>\n",
       "      <td>1</td>\n",
       "      <td>0</td>\n",
       "      <td>110</td>\n",
       "      <td>275</td>\n",
       "      <td>0</td>\n",
       "      <td>0</td>\n",
       "      <td>118</td>\n",
       "      <td>1</td>\n",
       "      <td>1.0</td>\n",
       "      <td>1</td>\n",
       "      <td>1</td>\n",
       "      <td>2</td>\n",
       "      <td>0</td>\n",
       "    </tr>\n",
       "    <tr>\n",
       "      <th>1023</th>\n",
       "      <td>50</td>\n",
       "      <td>0</td>\n",
       "      <td>0</td>\n",
       "      <td>110</td>\n",
       "      <td>254</td>\n",
       "      <td>0</td>\n",
       "      <td>0</td>\n",
       "      <td>159</td>\n",
       "      <td>0</td>\n",
       "      <td>0.0</td>\n",
       "      <td>2</td>\n",
       "      <td>0</td>\n",
       "      <td>2</td>\n",
       "      <td>1</td>\n",
       "    </tr>\n",
       "    <tr>\n",
       "      <th>1024</th>\n",
       "      <td>54</td>\n",
       "      <td>1</td>\n",
       "      <td>0</td>\n",
       "      <td>120</td>\n",
       "      <td>188</td>\n",
       "      <td>0</td>\n",
       "      <td>1</td>\n",
       "      <td>113</td>\n",
       "      <td>0</td>\n",
       "      <td>1.4</td>\n",
       "      <td>1</td>\n",
       "      <td>1</td>\n",
       "      <td>3</td>\n",
       "      <td>0</td>\n",
       "    </tr>\n",
       "  </tbody>\n",
       "</table>\n",
       "<p>1025 rows × 14 columns</p>\n",
       "</div>"
      ],
      "text/plain": [
       "      age  sex  cp  trestbps  chol  fbs  restecg  thalach  exang  oldpeak  \\\n",
       "0      52    1   0       125   212    0        1      168      0      1.0   \n",
       "1      53    1   0       140   203    1        0      155      1      3.1   \n",
       "2      70    1   0       145   174    0        1      125      1      2.6   \n",
       "3      61    1   0       148   203    0        1      161      0      0.0   \n",
       "4      62    0   0       138   294    1        1      106      0      1.9   \n",
       "...   ...  ...  ..       ...   ...  ...      ...      ...    ...      ...   \n",
       "1020   59    1   1       140   221    0        1      164      1      0.0   \n",
       "1021   60    1   0       125   258    0        0      141      1      2.8   \n",
       "1022   47    1   0       110   275    0        0      118      1      1.0   \n",
       "1023   50    0   0       110   254    0        0      159      0      0.0   \n",
       "1024   54    1   0       120   188    0        1      113      0      1.4   \n",
       "\n",
       "      slope  ca  thal  target  \n",
       "0         2   2     3       0  \n",
       "1         0   0     3       0  \n",
       "2         0   0     3       0  \n",
       "3         2   1     3       0  \n",
       "4         1   3     2       0  \n",
       "...     ...  ..   ...     ...  \n",
       "1020      2   0     2       1  \n",
       "1021      1   1     3       0  \n",
       "1022      1   1     2       0  \n",
       "1023      2   0     2       1  \n",
       "1024      1   1     3       0  \n",
       "\n",
       "[1025 rows x 14 columns]"
      ]
     },
     "execution_count": 48,
     "metadata": {},
     "output_type": "execute_result"
    }
   ],
   "source": [
    "import pandas as pd\n",
    "import numpy as np\n",
    "df = pd.read_csv('./data/heart2.csv')\n",
    "df"
   ]
  },
  {
   "cell_type": "code",
   "execution_count": 49,
   "id": "f6802d8d",
   "metadata": {},
   "outputs": [
    {
     "name": "stdout",
     "output_type": "stream",
     "text": [
      "Index(['age', 'sex', 'cp', 'trestbps', 'chol', 'fbs', 'restecg', 'thalach',\n",
      "       'exang', 'oldpeak', 'slope', 'ca', 'thal', 'target'],\n",
      "      dtype='object')\n"
     ]
    }
   ],
   "source": [
    "print(df.columns)"
   ]
  },
  {
   "cell_type": "markdown",
   "id": "b46a0a3d",
   "metadata": {},
   "source": [
    "The last column of the data is ‘target’. It says if a person has heart disease or not. In the beginning, we have a ‘Sex’ column as well."
   ]
  },
  {
   "cell_type": "markdown",
   "id": "f1913f6d",
   "metadata": {},
   "source": [
    "#### The last column of the data is ‘target’. It says if a person has heart disease or not. In the beginning, we have a ‘Sex’ column as well."
   ]
  },
  {
   "cell_type": "code",
   "execution_count": 50,
   "id": "b0bc5630",
   "metadata": {},
   "outputs": [],
   "source": [
    "df['Sex1'] = df.sex.replace({1: \"Male\", 0: \"Female\"})"
   ]
  },
  {
   "cell_type": "markdown",
   "id": "88d7c40b",
   "metadata": {},
   "source": [
    "We do not need all the columns in the dataset. We will only use the ‘AHD’ column as that contains if a person has heart disease or not and the Sex1 column we just created. Make a DataFrame with only these two columns and drop all the null values.\n"
   ]
  },
  {
   "cell_type": "code",
   "execution_count": 51,
   "id": "e69853ed",
   "metadata": {},
   "outputs": [],
   "source": [
    "dx = df[[\"target\", \"Sex1\"]].dropna()"
   ]
  },
  {
   "cell_type": "markdown",
   "id": "2223deef",
   "metadata": {},
   "source": [
    "We need the number of females who have heart disease. The line of code below will give the number of males and females with heart disease and with no heart disease"
   ]
  },
  {
   "cell_type": "code",
   "execution_count": 52,
   "id": "94a31c1c",
   "metadata": {},
   "outputs": [
    {
     "data": {
      "text/html": [
       "<div>\n",
       "<style scoped>\n",
       "    .dataframe tbody tr th:only-of-type {\n",
       "        vertical-align: middle;\n",
       "    }\n",
       "\n",
       "    .dataframe tbody tr th {\n",
       "        vertical-align: top;\n",
       "    }\n",
       "\n",
       "    .dataframe thead th {\n",
       "        text-align: right;\n",
       "    }\n",
       "</style>\n",
       "<table border=\"1\" class=\"dataframe\">\n",
       "  <thead>\n",
       "    <tr style=\"text-align: right;\">\n",
       "      <th>Sex1</th>\n",
       "      <th>Female</th>\n",
       "      <th>Male</th>\n",
       "    </tr>\n",
       "    <tr>\n",
       "      <th>target</th>\n",
       "      <th></th>\n",
       "      <th></th>\n",
       "    </tr>\n",
       "  </thead>\n",
       "  <tbody>\n",
       "    <tr>\n",
       "      <th>0</th>\n",
       "      <td>86</td>\n",
       "      <td>413</td>\n",
       "    </tr>\n",
       "    <tr>\n",
       "      <th>1</th>\n",
       "      <td>226</td>\n",
       "      <td>300</td>\n",
       "    </tr>\n",
       "  </tbody>\n",
       "</table>\n",
       "</div>"
      ],
      "text/plain": [
       "Sex1    Female  Male\n",
       "target              \n",
       "0           86   413\n",
       "1          226   300"
      ]
     },
     "execution_count": 52,
     "metadata": {},
     "output_type": "execute_result"
    }
   ],
   "source": [
    "pd.crosstab(dx.target, dx.Sex1)"
   ]
  },
  {
   "cell_type": "markdown",
   "id": "8fcf40d1",
   "metadata": {},
   "source": [
    "## CI for the population Proportion"
   ]
  },
  {
   "cell_type": "code",
   "execution_count": 16,
   "id": "edf9781b",
   "metadata": {},
   "outputs": [
    {
     "data": {
      "text/plain": [
       "0.7243589743589743"
      ]
     },
     "execution_count": 16,
     "metadata": {},
     "output_type": "execute_result"
    }
   ],
   "source": [
    "#Calculate the female population proportion with heart disease\n",
    "p_fm = 226/(86+226)\n",
    "p_fm"
   ]
  },
  {
   "cell_type": "code",
   "execution_count": 15,
   "id": "a3267701",
   "metadata": {},
   "outputs": [
    {
     "data": {
      "text/plain": [
       "312"
      ]
     },
     "execution_count": 15,
     "metadata": {},
     "output_type": "execute_result"
    }
   ],
   "source": [
    "#size of the female population\n",
    "n = 86 + 226\n",
    "n"
   ]
  },
  {
   "cell_type": "code",
   "execution_count": 14,
   "id": "73ecac69",
   "metadata": {},
   "outputs": [
    {
     "data": {
      "text/plain": [
       "0.02529714756803247"
      ]
     },
     "execution_count": 14,
     "metadata": {},
     "output_type": "execute_result"
    }
   ],
   "source": [
    "#The size of the female population is 97. Calculate the standard error\n",
    "se_female = np.sqrt(p_fm * (1 - p_fm) / n)\n",
    "se_female"
   ]
  },
  {
   "cell_type": "code",
   "execution_count": 18,
   "id": "e7477550",
   "metadata": {},
   "outputs": [
    {
     "name": "stdout",
     "output_type": "stream",
     "text": [
      "The confidence interval is 0.6747765651256307 and 0.773941383592318\n"
     ]
    }
   ],
   "source": [
    "z_score = 1.96\n",
    "lcb = p_fm - z_score* se_female #lower limit of the CI\n",
    "ucb = p_fm + z_score* se_female #upper limit of the CI\n",
    "\n",
    "print(f\"The confidence interval is {lcb} and {ucb}\")"
   ]
  },
  {
   "cell_type": "code",
   "execution_count": 19,
   "id": "9e12c58a",
   "metadata": {},
   "outputs": [
    {
     "data": {
      "text/plain": [
       "(0.6747774762140357, 0.773940472503913)"
      ]
     },
     "execution_count": 19,
     "metadata": {},
     "output_type": "execute_result"
    }
   ],
   "source": [
    "import statsmodels.api as sm\n",
    "sm.stats.proportion_confint(n * p_fm, n)"
   ]
  },
  {
   "cell_type": "markdown",
   "id": "c8b473f3",
   "metadata": {},
   "source": [
    "Is the population proportion of females with heart disease the same as the population proportion of males with heart disease? If they are the same, then the difference in both the population proportions will be zero.\n"
   ]
  },
  {
   "cell_type": "code",
   "execution_count": 23,
   "id": "c78ef01e",
   "metadata": {},
   "outputs": [
    {
     "data": {
      "text/plain": [
       "0.42075736325385693"
      ]
     },
     "execution_count": 23,
     "metadata": {},
     "output_type": "execute_result"
    }
   ],
   "source": [
    "p_male = 300/(413+300)  #male population proportion\n",
    "n = 300+413             #total male population\n",
    "p_male"
   ]
  },
  {
   "cell_type": "code",
   "execution_count": 24,
   "id": "7d03707f",
   "metadata": {},
   "outputs": [
    {
     "data": {
      "text/plain": [
       "0.018488486410836908"
      ]
     },
     "execution_count": 24,
     "metadata": {},
     "output_type": "execute_result"
    }
   ],
   "source": [
    "se_male = np.sqrt(p_male * (1 - p_male) / n)\n",
    "se_male"
   ]
  },
  {
   "cell_type": "code",
   "execution_count": 21,
   "id": "515c60b2",
   "metadata": {},
   "outputs": [],
   "source": [
    "se_diff = np.sqrt(se_female**2 + se_male**2)"
   ]
  },
  {
   "cell_type": "code",
   "execution_count": 25,
   "id": "9ecde66c",
   "metadata": {},
   "outputs": [
    {
     "name": "stdout",
     "output_type": "stream",
     "text": [
      "The confidence interval is 0.23858691603344614 and 0.36141308396655386\n"
     ]
    }
   ],
   "source": [
    "d = 0.72 - 0.42\n",
    "lcb = d - 1.96 * se_diff  #lower limit of the CI\n",
    "ucb = d + 1.96 * se_diff  #upper limit of the CI\n",
    "print(f\"The confidence interval is {lcb} and {ucb}\")"
   ]
  },
  {
   "cell_type": "markdown",
   "id": "5ba1bf5e",
   "metadata": {},
   "source": [
    "The CI is 0.18 and 0.4. This range does not have 0 in it. Both the numbers are above zero. So, We cannot make any conclusion that the population proportion of females with heart disease is the same as the population proportion of males with heart disease."
   ]
  },
  {
   "cell_type": "markdown",
   "id": "7cea082c",
   "metadata": {},
   "source": [
    "## Calculation of CI of mean"
   ]
  },
  {
   "cell_type": "markdown",
   "id": "1273c380",
   "metadata": {},
   "source": [
    "#### we will calculate the confidence interval of the mean cholesterol level of the female population."
   ]
  },
  {
   "cell_type": "code",
   "execution_count": 27,
   "id": "08d75f33",
   "metadata": {},
   "outputs": [
    {
     "data": {
      "text/html": [
       "<div>\n",
       "<style scoped>\n",
       "    .dataframe tbody tr th:only-of-type {\n",
       "        vertical-align: middle;\n",
       "    }\n",
       "\n",
       "    .dataframe tbody tr th {\n",
       "        vertical-align: top;\n",
       "    }\n",
       "\n",
       "    .dataframe thead tr th {\n",
       "        text-align: left;\n",
       "    }\n",
       "\n",
       "    .dataframe thead tr:last-of-type th {\n",
       "        text-align: right;\n",
       "    }\n",
       "</style>\n",
       "<table border=\"1\" class=\"dataframe\">\n",
       "  <thead>\n",
       "    <tr>\n",
       "      <th></th>\n",
       "      <th colspan=\"3\" halign=\"left\">chol</th>\n",
       "    </tr>\n",
       "    <tr>\n",
       "      <th></th>\n",
       "      <th>mean</th>\n",
       "      <th>std</th>\n",
       "      <th>size</th>\n",
       "    </tr>\n",
       "    <tr>\n",
       "      <th>Sex1</th>\n",
       "      <th></th>\n",
       "      <th></th>\n",
       "      <th></th>\n",
       "    </tr>\n",
       "  </thead>\n",
       "  <tbody>\n",
       "    <tr>\n",
       "      <th>Female</th>\n",
       "      <td>261.455128</td>\n",
       "      <td>64.466781</td>\n",
       "      <td>312</td>\n",
       "    </tr>\n",
       "    <tr>\n",
       "      <th>Male</th>\n",
       "      <td>239.237027</td>\n",
       "      <td>43.155535</td>\n",
       "      <td>713</td>\n",
       "    </tr>\n",
       "  </tbody>\n",
       "</table>\n",
       "</div>"
      ],
      "text/plain": [
       "              chol                \n",
       "              mean        std size\n",
       "Sex1                              \n",
       "Female  261.455128  64.466781  312\n",
       "Male    239.237027  43.155535  713"
      ]
     },
     "execution_count": 27,
     "metadata": {},
     "output_type": "execute_result"
    }
   ],
   "source": [
    "df.groupby(\"Sex1\").agg({\"chol\": [np.mean, np.std, np.size]})"
   ]
  },
  {
   "cell_type": "code",
   "execution_count": 28,
   "id": "35673cab",
   "metadata": {},
   "outputs": [
    {
     "data": {
      "text/plain": [
       "3.6742389757992133"
      ]
     },
     "execution_count": 28,
     "metadata": {},
     "output_type": "execute_result"
    }
   ],
   "source": [
    "mean_fe = 261.75  #mean cholesterol of female\n",
    "sd = 64.9         #standard deviation for female population\n",
    "n = 312           #Total number of female\n",
    "z = 1.96          #z-score from the z table mentioned before\n",
    "se = sd /np.sqrt(n)\n",
    "se"
   ]
  },
  {
   "cell_type": "code",
   "execution_count": 29,
   "id": "e33090c2",
   "metadata": {},
   "outputs": [
    {
     "name": "stdout",
     "output_type": "stream",
     "text": [
      "The confidence interval is 254.54849160743353 and 268.95150839256644\n"
     ]
    }
   ],
   "source": [
    "lcb = mean_fe - z* se  #lower limit of the CI\n",
    "ucb = mean_fe + z* se  #upper limit of the CI\n",
    "print(f\"The confidence interval is {lcb} and {ucb}\")"
   ]
  },
  {
   "cell_type": "markdown",
   "id": "a84a7017",
   "metadata": {},
   "source": [
    "That means the true mean of the cholesterol of the female population will fall between 248.83 and 274.67"
   ]
  },
  {
   "cell_type": "markdown",
   "id": "52de206d",
   "metadata": {},
   "source": [
    "### Calculation of CI of The Difference in Mean\n"
   ]
  },
  {
   "cell_type": "markdown",
   "id": "110c56a8",
   "metadata": {},
   "source": [
    "There are two approaches to calculate the CI for the difference in the mean of two populations: Pooled approach and unpooled approach\n"
   ]
  },
  {
   "cell_type": "markdown",
   "id": "4de1e1b8",
   "metadata": {},
   "source": [
    "As mentioned earlier, we need a simple random sample and a normal distribution. If the sample is large, a normal distribution is not necessary.\n",
    "There is one more assumption for a pooled approach. That is, the variance of the two populations is the same or almost the same.\n",
    "If the variance is not the same, the unpooled approach is more appropriate.\n"
   ]
  },
  {
   "cell_type": "code",
   "execution_count": 30,
   "id": "5a096e60",
   "metadata": {},
   "outputs": [],
   "source": [
    "n1 = 97\n",
    "n2 = 206\n",
    "mean_female = 261.75\n",
    "mean_male = 239.6\n",
    "sd_female = 64.9\n",
    "sd_male = 42.65"
   ]
  },
  {
   "cell_type": "markdown",
   "id": "7b03e2a7",
   "metadata": {},
   "source": [
    "As we can see, the standard deviation of the two target populations is different. So. the variance must be different as well.\n",
    "So, for this example, the unpooled approach will be more appropriate."
   ]
  },
  {
   "cell_type": "code",
   "execution_count": 31,
   "id": "a547fcff",
   "metadata": {},
   "outputs": [],
   "source": [
    "sem_female = sd_female / np.sqrt(97)\n",
    "sem_male = sd_male / np.sqrt(206)"
   ]
  },
  {
   "cell_type": "code",
   "execution_count": 32,
   "id": "47b511f5",
   "metadata": {},
   "outputs": [],
   "source": [
    "mean_d = mean_female - mean_male"
   ]
  },
  {
   "cell_type": "markdown",
   "id": "c242828e",
   "metadata": {},
   "source": [
    "Using the formula for the unpooled approach, calculate the difference in standard error:\n"
   ]
  },
  {
   "cell_type": "code",
   "execution_count": 34,
   "id": "de8fd403",
   "metadata": {},
   "outputs": [],
   "source": [
    "sem_d = (np.sqrt((n1-1)*se_female**2 + (n2-1)*se_male**2)/(n1+n2-2))*(np.sqrt(1/n1 + 1/n2))\n"
   ]
  },
  {
   "cell_type": "code",
   "execution_count": 36,
   "id": "33a036b0",
   "metadata": {},
   "outputs": [
    {
     "data": {
      "text/plain": [
       "(22.149709217204855, 22.150290782795157)"
      ]
     },
     "execution_count": 36,
     "metadata": {},
     "output_type": "execute_result"
    }
   ],
   "source": [
    "#Finally, construct the CI for the difference in mean\n",
    "lcb = mean_d - 1.96*sem_d  #lower limit of the CI\n",
    "ucb = mean_d + 1.96*sem_d  #upper limit of the CI\n",
    "(lcb, ucb)"
   ]
  },
  {
   "cell_type": "markdown",
   "id": "e24596b7",
   "metadata": {},
   "source": [
    "The lower and upper limit of the confidence interval came out to be 22.1494 and 22.15. They are almost the same. That means the mean cholesterol of the female population is not different than the mean cholesterol of the male population."
   ]
  },
  {
   "cell_type": "code",
   "execution_count": null,
   "id": "53aa9706",
   "metadata": {},
   "outputs": [],
   "source": []
  }
 ],
 "metadata": {
  "kernelspec": {
   "display_name": "Python 3",
   "language": "python",
   "name": "python3"
  },
  "language_info": {
   "codemirror_mode": {
    "name": "ipython",
    "version": 3
   },
   "file_extension": ".py",
   "mimetype": "text/x-python",
   "name": "python",
   "nbconvert_exporter": "python",
   "pygments_lexer": "ipython3",
   "version": "3.8.5"
  }
 },
 "nbformat": 4,
 "nbformat_minor": 5
}
